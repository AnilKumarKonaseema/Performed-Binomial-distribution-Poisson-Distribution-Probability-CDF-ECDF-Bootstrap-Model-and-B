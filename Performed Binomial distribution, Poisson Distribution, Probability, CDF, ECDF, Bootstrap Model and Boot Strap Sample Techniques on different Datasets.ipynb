{
 "cells": [
  {
   "cell_type": "code",
   "execution_count": 1,
   "metadata": {},
   "outputs": [],
   "source": [
    "import numpy as np\n",
    "import pandas as pd\n",
    "import matplotlib.pyplot as plt\n",
    "import seaborn as sns"
   ]
  },
  {
   "cell_type": "code",
   "execution_count": 4,
   "metadata": {},
   "outputs": [
    {
     "data": {
      "text/html": [
       "<div>\n",
       "<style scoped>\n",
       "    .dataframe tbody tr th:only-of-type {\n",
       "        vertical-align: middle;\n",
       "    }\n",
       "\n",
       "    .dataframe tbody tr th {\n",
       "        vertical-align: top;\n",
       "    }\n",
       "\n",
       "    .dataframe thead th {\n",
       "        text-align: right;\n",
       "    }\n",
       "</style>\n",
       "<table border=\"1\" class=\"dataframe\">\n",
       "  <thead>\n",
       "    <tr style=\"text-align: right;\">\n",
       "      <th></th>\n",
       "      <th>sepal_length</th>\n",
       "      <th>sepal_width</th>\n",
       "      <th>petal_length</th>\n",
       "      <th>petal_width</th>\n",
       "      <th>species</th>\n",
       "    </tr>\n",
       "  </thead>\n",
       "  <tbody>\n",
       "    <tr>\n",
       "      <th>0</th>\n",
       "      <td>5.1</td>\n",
       "      <td>3.5</td>\n",
       "      <td>1.4</td>\n",
       "      <td>0.2</td>\n",
       "      <td>setosa</td>\n",
       "    </tr>\n",
       "    <tr>\n",
       "      <th>1</th>\n",
       "      <td>4.9</td>\n",
       "      <td>3.0</td>\n",
       "      <td>1.4</td>\n",
       "      <td>0.2</td>\n",
       "      <td>setosa</td>\n",
       "    </tr>\n",
       "    <tr>\n",
       "      <th>2</th>\n",
       "      <td>4.7</td>\n",
       "      <td>3.2</td>\n",
       "      <td>1.3</td>\n",
       "      <td>0.2</td>\n",
       "      <td>setosa</td>\n",
       "    </tr>\n",
       "    <tr>\n",
       "      <th>3</th>\n",
       "      <td>4.6</td>\n",
       "      <td>3.1</td>\n",
       "      <td>1.5</td>\n",
       "      <td>0.2</td>\n",
       "      <td>setosa</td>\n",
       "    </tr>\n",
       "    <tr>\n",
       "      <th>4</th>\n",
       "      <td>5.0</td>\n",
       "      <td>3.6</td>\n",
       "      <td>1.4</td>\n",
       "      <td>0.2</td>\n",
       "      <td>setosa</td>\n",
       "    </tr>\n",
       "  </tbody>\n",
       "</table>\n",
       "</div>"
      ],
      "text/plain": [
       "   sepal_length  sepal_width  petal_length  petal_width species\n",
       "0           5.1          3.5           1.4          0.2  setosa\n",
       "1           4.9          3.0           1.4          0.2  setosa\n",
       "2           4.7          3.2           1.3          0.2  setosa\n",
       "3           4.6          3.1           1.5          0.2  setosa\n",
       "4           5.0          3.6           1.4          0.2  setosa"
      ]
     },
     "execution_count": 4,
     "metadata": {},
     "output_type": "execute_result"
    }
   ],
   "source": [
    "iris=sns.load_dataset('iris')\n",
    "iris.head()"
   ]
  },
  {
   "cell_type": "code",
   "execution_count": 10,
   "metadata": {},
   "outputs": [
    {
     "data": {
      "image/png": "[encoded data removed]",
      "text/plain": [
       "<Figure size 432x288 with 1 Axes>"
      ]
     },
     "metadata": {
      "needs_background": "light"
     },
     "output_type": "display_data"
    }
   ],
   "source": [
    "_=plt.scatter(iris['species'],iris['sepal_width'])\n",
    "_=plt.xlabel='Species'\n",
    "_=plt.ylabel='Sepal Width'\n",
    "plt.show()"
   ]
  },
  {
   "cell_type": "code",
   "execution_count": 12,
   "metadata": {},
   "outputs": [
    {
     "data": {
      "text/html": [
       "<div>\n",
       "<style scoped>\n",
       "    .dataframe tbody tr th:only-of-type {\n",
       "        vertical-align: middle;\n",
       "    }\n",
       "\n",
       "    .dataframe tbody tr th {\n",
       "        vertical-align: top;\n",
       "    }\n",
       "\n",
       "    .dataframe thead th {\n",
       "        text-align: right;\n",
       "    }\n",
       "</style>\n",
       "<table border=\"1\" class=\"dataframe\">\n",
       "  <thead>\n",
       "    <tr style=\"text-align: right;\">\n",
       "      <th></th>\n",
       "      <th>sepal_length</th>\n",
       "      <th>sepal_width</th>\n",
       "      <th>petal_length</th>\n",
       "      <th>petal_width</th>\n",
       "      <th>species</th>\n",
       "    </tr>\n",
       "  </thead>\n",
       "  <tbody>\n",
       "    <tr>\n",
       "      <th>0</th>\n",
       "      <td>5.1</td>\n",
       "      <td>3.5</td>\n",
       "      <td>1.4</td>\n",
       "      <td>0.2</td>\n",
       "      <td>setosa</td>\n",
       "    </tr>\n",
       "    <tr>\n",
       "      <th>1</th>\n",
       "      <td>4.9</td>\n",
       "      <td>3.0</td>\n",
       "      <td>1.4</td>\n",
       "      <td>0.2</td>\n",
       "      <td>setosa</td>\n",
       "    </tr>\n",
       "    <tr>\n",
       "      <th>2</th>\n",
       "      <td>4.7</td>\n",
       "      <td>3.2</td>\n",
       "      <td>1.3</td>\n",
       "      <td>0.2</td>\n",
       "      <td>setosa</td>\n",
       "    </tr>\n",
       "    <tr>\n",
       "      <th>3</th>\n",
       "      <td>4.6</td>\n",
       "      <td>3.1</td>\n",
       "      <td>1.5</td>\n",
       "      <td>0.2</td>\n",
       "      <td>setosa</td>\n",
       "    </tr>\n",
       "    <tr>\n",
       "      <th>4</th>\n",
       "      <td>5.0</td>\n",
       "      <td>3.6</td>\n",
       "      <td>1.4</td>\n",
       "      <td>0.2</td>\n",
       "      <td>setosa</td>\n",
       "    </tr>\n",
       "    <tr>\n",
       "      <th>...</th>\n",
       "      <td>...</td>\n",
       "      <td>...</td>\n",
       "      <td>...</td>\n",
       "      <td>...</td>\n",
       "      <td>...</td>\n",
       "    </tr>\n",
       "    <tr>\n",
       "      <th>145</th>\n",
       "      <td>6.7</td>\n",
       "      <td>3.0</td>\n",
       "      <td>5.2</td>\n",
       "      <td>2.3</td>\n",
       "      <td>virginica</td>\n",
       "    </tr>\n",
       "    <tr>\n",
       "      <th>146</th>\n",
       "      <td>6.3</td>\n",
       "      <td>2.5</td>\n",
       "      <td>5.0</td>\n",
       "      <td>1.9</td>\n",
       "      <td>virginica</td>\n",
       "    </tr>\n",
       "    <tr>\n",
       "      <th>147</th>\n",
       "      <td>6.5</td>\n",
       "      <td>3.0</td>\n",
       "      <td>5.2</td>\n",
       "      <td>2.0</td>\n",
       "      <td>virginica</td>\n",
       "    </tr>\n",
       "    <tr>\n",
       "      <th>148</th>\n",
       "      <td>6.2</td>\n",
       "      <td>3.4</td>\n",
       "      <td>5.4</td>\n",
       "      <td>2.3</td>\n",
       "      <td>virginica</td>\n",
       "    </tr>\n",
       "    <tr>\n",
       "      <th>149</th>\n",
       "      <td>5.9</td>\n",
       "      <td>3.0</td>\n",
       "      <td>5.1</td>\n",
       "      <td>1.8</td>\n",
       "      <td>virginica</td>\n",
       "    </tr>\n",
       "  </tbody>\n",
       "</table>\n",
       "<p>150 rows × 5 columns</p>\n",
       "</div>"
      ],
      "text/plain": [
       "     sepal_length  sepal_width  petal_length  petal_width    species\n",
       "0             5.1          3.5           1.4          0.2     setosa\n",
       "1             4.9          3.0           1.4          0.2     setosa\n",
       "2             4.7          3.2           1.3          0.2     setosa\n",
       "3             4.6          3.1           1.5          0.2     setosa\n",
       "4             5.0          3.6           1.4          0.2     setosa\n",
       "..            ...          ...           ...          ...        ...\n",
       "145           6.7          3.0           5.2          2.3  virginica\n",
       "146           6.3          2.5           5.0          1.9  virginica\n",
       "147           6.5          3.0           5.2          2.0  virginica\n",
       "148           6.2          3.4           5.4          2.3  virginica\n",
       "149           5.9          3.0           5.1          1.8  virginica\n",
       "\n",
       "[150 rows x 5 columns]"
      ]
     },
     "execution_count": 12,
     "metadata": {},
     "output_type": "execute_result"
    }
   ],
   "source": [
    "iris"
   ]
  },
  {
   "cell_type": "code",
   "execution_count": 13,
   "metadata": {},
   "outputs": [
    {
     "data": {
      "text/html": [
       "<div>\n",
       "<style scoped>\n",
       "    .dataframe tbody tr th:only-of-type {\n",
       "        vertical-align: middle;\n",
       "    }\n",
       "\n",
       "    .dataframe tbody tr th {\n",
       "        vertical-align: top;\n",
       "    }\n",
       "\n",
       "    .dataframe thead th {\n",
       "        text-align: right;\n",
       "    }\n",
       "</style>\n",
       "<table border=\"1\" class=\"dataframe\">\n",
       "  <thead>\n",
       "    <tr style=\"text-align: right;\">\n",
       "      <th></th>\n",
       "      <th>sepal_length</th>\n",
       "      <th>sepal_width</th>\n",
       "      <th>petal_length</th>\n",
       "      <th>petal_width</th>\n",
       "      <th>species</th>\n",
       "    </tr>\n",
       "  </thead>\n",
       "  <tbody>\n",
       "    <tr>\n",
       "      <th>0</th>\n",
       "      <td>5.1</td>\n",
       "      <td>3.5</td>\n",
       "      <td>1.4</td>\n",
       "      <td>0.2</td>\n",
       "      <td>setosa</td>\n",
       "    </tr>\n",
       "    <tr>\n",
       "      <th>1</th>\n",
       "      <td>4.9</td>\n",
       "      <td>3.0</td>\n",
       "      <td>1.4</td>\n",
       "      <td>0.2</td>\n",
       "      <td>setosa</td>\n",
       "    </tr>\n",
       "    <tr>\n",
       "      <th>2</th>\n",
       "      <td>4.7</td>\n",
       "      <td>3.2</td>\n",
       "      <td>1.3</td>\n",
       "      <td>0.2</td>\n",
       "      <td>setosa</td>\n",
       "    </tr>\n",
       "    <tr>\n",
       "      <th>3</th>\n",
       "      <td>4.6</td>\n",
       "      <td>3.1</td>\n",
       "      <td>1.5</td>\n",
       "      <td>0.2</td>\n",
       "      <td>setosa</td>\n",
       "    </tr>\n",
       "    <tr>\n",
       "      <th>4</th>\n",
       "      <td>5.0</td>\n",
       "      <td>3.6</td>\n",
       "      <td>1.4</td>\n",
       "      <td>0.2</td>\n",
       "      <td>setosa</td>\n",
       "    </tr>\n",
       "  </tbody>\n",
       "</table>\n",
       "</div>"
      ],
      "text/plain": [
       "   sepal_length  sepal_width  petal_length  petal_width species\n",
       "0           5.1          3.5           1.4          0.2  setosa\n",
       "1           4.9          3.0           1.4          0.2  setosa\n",
       "2           4.7          3.2           1.3          0.2  setosa\n",
       "3           4.6          3.1           1.5          0.2  setosa\n",
       "4           5.0          3.6           1.4          0.2  setosa"
      ]
     },
     "execution_count": 13,
     "metadata": {},
     "output_type": "execute_result"
    }
   ],
   "source": [
    "iris.head()"
   ]
  },
  {
   "cell_type": "code",
   "execution_count": 14,
   "metadata": {},
   "outputs": [
    {
     "data": {
      "text/plain": [
       "13     4.3\n",
       "42     4.4\n",
       "38     4.4\n",
       "8      4.4\n",
       "41     4.5\n",
       "      ... \n",
       "122    7.7\n",
       "118    7.7\n",
       "117    7.7\n",
       "135    7.7\n",
       "131    7.9\n",
       "Name: sepal_length, Length: 150, dtype: float64"
      ]
     },
     "execution_count": 14,
     "metadata": {},
     "output_type": "execute_result"
    }
   ],
   "source": [
    "iris1=iris['sepal_length'].sort_values()\n",
    "iris1"
   ]
  },
  {
   "cell_type": "code",
   "execution_count": 17,
   "metadata": {},
   "outputs": [
    {
     "data": {
      "text/plain": [
       "array([4.3, 4.4, 4.4, 4.4, 4.5, 4.6, 4.6, 4.6, 4.6, 4.7, 4.7, 4.8, 4.8,\n",
       "       4.8, 4.8, 4.8, 4.9, 4.9, 4.9, 4.9, 4.9, 4.9, 5. , 5. , 5. , 5. ,\n",
       "       5. , 5. , 5. , 5. , 5. , 5. , 5.1, 5.1, 5.1, 5.1, 5.1, 5.1, 5.1,\n",
       "       5.1, 5.1, 5.2, 5.2, 5.2, 5.2, 5.3, 5.4, 5.4, 5.4, 5.4, 5.4, 5.4,\n",
       "       5.5, 5.5, 5.5, 5.5, 5.5, 5.5, 5.5, 5.6, 5.6, 5.6, 5.6, 5.6, 5.6,\n",
       "       5.7, 5.7, 5.7, 5.7, 5.7, 5.7, 5.7, 5.7, 5.8, 5.8, 5.8, 5.8, 5.8,\n",
       "       5.8, 5.8, 5.9, 5.9, 5.9, 6. , 6. , 6. , 6. , 6. , 6. , 6.1, 6.1,\n",
       "       6.1, 6.1, 6.1, 6.1, 6.2, 6.2, 6.2, 6.2, 6.3, 6.3, 6.3, 6.3, 6.3,\n",
       "       6.3, 6.3, 6.3, 6.3, 6.4, 6.4, 6.4, 6.4, 6.4, 6.4, 6.4, 6.5, 6.5,\n",
       "       6.5, 6.5, 6.5, 6.6, 6.6, 6.7, 6.7, 6.7, 6.7, 6.7, 6.7, 6.7, 6.7,\n",
       "       6.8, 6.8, 6.8, 6.9, 6.9, 6.9, 6.9, 7. , 7.1, 7.2, 7.2, 7.2, 7.3,\n",
       "       7.4, 7.6, 7.7, 7.7, 7.7, 7.7, 7.9])"
      ]
     },
     "execution_count": 17,
     "metadata": {},
     "output_type": "execute_result"
    }
   ],
   "source": [
    "import numpy as np\n",
    "iris2=np.sort(iris['sepal_length'])\n",
    "iris2"
   ]
  },
  {
   "cell_type": "code",
   "execution_count": 83,
   "metadata": {},
   "outputs": [
    {
     "data": {
      "text/plain": [
       "array(['setosa', 'versicolor', 'virginica'], dtype=object)"
      ]
     },
     "execution_count": 83,
     "metadata": {},
     "output_type": "execute_result"
    }
   ],
   "source": [
    "iris.head()\n",
    "iris['species'].unique()"
   ]
  },
  {
   "cell_type": "code",
   "execution_count": 117,
   "metadata": {},
   "outputs": [
    {
     "data": {
      "image/png": "[encoded data removed]",
      "text/plain": [
       "<Figure size 432x288 with 1 Axes>"
      ]
     },
     "metadata": {},
     "output_type": "display_data"
    }
   ],
   "source": [
    "import matplotlib.pyplot as plt\n",
    "sns.set()\n",
    "x1=np.sort(iris[iris['species']=='setosa']['sepal_length'])\n",
    "x2=np.sort(iris[iris['species']=='versicolor']['sepal_length'])\n",
    "x3=np.sort(iris[iris['species']=='virginica']['sepal_length'])\n",
    "#sepal_length_sort=np.sort(iris['sepal_length'])\n",
    "#y1=np.arange(1,len(sepal_length_sort)+1)/len(sepal_length_sort)\n",
    "y=np.arange(1,len(x1)+1)/len(x1)\n",
    "y=np.arange(1,len(x2)+1)/len(x2)\n",
    "y=np.arange(1,len(x3)+1)/len(x3)\n",
    "#y=np.arange(0,150)/151\n",
    "plt.plot(x1,y,marker='.',linestyle='none',label='setosa',color='r')\n",
    "plt.plot(x2,y,marker='.',linestyle='none',label='versicolor',color='g')\n",
    "plt.plot(x3,y,marker='.',linestyle='none',label='virginica',color='b')\n",
    "plt.legend()\n",
    "#_=plt.plot(sepal_length_sort,y1,marker='.',linestyle='none',color='b',alpha=0.3)\n",
    "#plt.xlabel('Sepal Length')\n",
    "#plt.ylabel('ECDF')\n",
    "plt.show()"
   ]
  },
  {
   "cell_type": "code",
   "execution_count": 38,
   "metadata": {},
   "outputs": [
    {
     "data": {
      "text/plain": [
       "150"
      ]
     },
     "execution_count": 38,
     "metadata": {},
     "output_type": "execute_result"
    }
   ],
   "source": [
    "import matplotlib.pyplot as plt\n",
    "sns.set()\n",
    "x1=np.sort(iris[iris['species']=='setosa']['sepal_length'])\n",
    "x2=np.sort(iris[iris['species']=='versicolor']['sepal_length'])\n",
    "x3=np.sort(iris[iris['species']=='virginica']['sepal_length'])\n",
    "#sepal_length_sort=np.sort(iris['sepal_length'])\n",
    "#y1=np.arange(1,len(sepal_length_sort)+1)/len(sepal_length_sort)\n",
    "y=np.arange(1,len(x1)+1)/len(x1)\n",
    "y=np.arange(1,len(x2)+1)/len(x2)\n",
    "y=np.arange(1,len(x3)+1)/len(x3)\n",
    "#y=np.arange(0,150)/151\n",
    "plt.plot(x1,y,marker='.',linestyle='none')\n",
    "plt.plot(x2,y,marker='.',linestyle='none')\n",
    "plt.plot(x3,y,marker='.',linestyle='none')\n",
    "#_=plt.plot(sepal_length_sort,y1,marker='.',linestyle='none',color='b',alpha=0.3)\n",
    "#plt.xlabel('Sepal Length')\n",
    "#plt.ylabel('ECDF')\n",
    "plt.show()"
   ]
  },
  {
   "cell_type": "code",
   "execution_count": 112,
   "metadata": {},
   "outputs": [
    {
     "data": {
      "text/plain": [
       "array(['setosa', 'versicolor', 'virginica'], dtype=object)"
      ]
     },
     "execution_count": 112,
     "metadata": {},
     "output_type": "execute_result"
    }
   ],
   "source": [
    "iris['species'].unique()"
   ]
  },
  {
   "cell_type": "code",
   "execution_count": 107,
   "metadata": {},
   "outputs": [
    {
     "name": "stdout",
     "output_type": "stream",
     "text": [
      "['setosa' 'versicolor' 'virginica']\n",
      "3\n"
     ]
    }
   ],
   "source": [
    "x=iris['species'].unique()\n",
    "s=len(x)\n",
    "print(x)\n",
    "print(s)"
   ]
  },
  {
   "cell_type": "code",
   "execution_count": 127,
   "metadata": {},
   "outputs": [
    {
     "data": {
      "text/plain": [
       "(150,)"
      ]
     },
     "execution_count": 127,
     "metadata": {},
     "output_type": "execute_result"
    }
   ],
   "source": [
    "import numpy as np\n",
    "np.arange(1,151).shape"
   ]
  },
  {
   "cell_type": "code",
   "execution_count": 128,
   "metadata": {},
   "outputs": [
    {
     "data": {
      "text/plain": [
       "5.843333333333335"
      ]
     },
     "execution_count": 128,
     "metadata": {},
     "output_type": "execute_result"
    }
   ],
   "source": [
    "np.mean(iris['sepal_length'])"
   ]
  },
  {
   "cell_type": "code",
   "execution_count": 134,
   "metadata": {},
   "outputs": [
    {
     "data": {
      "text/plain": [
       "sepal_length    5.843333\n",
       "sepal_width     3.057333\n",
       "petal_length    3.758000\n",
       "petal_width     1.199333\n",
       "dtype: float64"
      ]
     },
     "execution_count": 134,
     "metadata": {},
     "output_type": "execute_result"
    }
   ],
   "source": [
    "np.mean(iris)"
   ]
  },
  {
   "cell_type": "code",
   "execution_count": 164,
   "metadata": {},
   "outputs": [
    {
     "data": {
      "text/plain": [
       "0      2.550\n",
       "1      2.375\n",
       "2      2.350\n",
       "3      2.350\n",
       "4      2.550\n",
       "       ...  \n",
       "145    4.300\n",
       "146    3.925\n",
       "147    4.175\n",
       "148    4.325\n",
       "149    3.950\n",
       "Length: 150, dtype: float64"
      ]
     },
     "execution_count": 164,
     "metadata": {},
     "output_type": "execute_result"
    }
   ],
   "source": [
    "iris.mean(axis=1)"
   ]
  },
  {
   "cell_type": "code",
   "execution_count": 275,
   "metadata": {},
   "outputs": [
    {
     "data": {
      "text/plain": [
       "5.8"
      ]
     },
     "execution_count": 275,
     "metadata": {},
     "output_type": "execute_result"
    }
   ],
   "source": [
    "np.median(iris['sepal_length'])"
   ]
  },
  {
   "cell_type": "code",
   "execution_count": 156,
   "metadata": {},
   "outputs": [
    {
     "data": {
      "text/plain": [
       "array([[5.1 ],\n",
       "       [5.27],\n",
       "       [6.1 ],\n",
       "       [7.9 ]])"
      ]
     },
     "execution_count": 156,
     "metadata": {},
     "output_type": "execute_result"
    }
   ],
   "source": [
    "np.percentile(iris[['sepal_length']],[25,30,60,100],axis=0)"
   ]
  },
  {
   "cell_type": "code",
   "execution_count": 166,
   "metadata": {},
   "outputs": [
    {
     "data": {
      "text/plain": [
       "0.8253012917851409"
      ]
     },
     "execution_count": 166,
     "metadata": {},
     "output_type": "execute_result"
    }
   ],
   "source": [
    "np.std(iris['sepal_length'])"
   ]
  },
  {
   "cell_type": "code",
   "execution_count": 172,
   "metadata": {},
   "outputs": [
    {
     "data": {
      "text/plain": [
       "0.945719206434091"
      ]
     },
     "execution_count": 172,
     "metadata": {},
     "output_type": "execute_result"
    }
   ],
   "source": [
    "np.random.random()"
   ]
  },
  {
   "cell_type": "code",
   "execution_count": 174,
   "metadata": {},
   "outputs": [],
   "source": [
    "np.random.seed(10)"
   ]
  },
  {
   "cell_type": "code",
   "execution_count": 175,
   "metadata": {},
   "outputs": [
    {
     "data": {
      "text/plain": [
       "array([0.77132064, 0.02075195, 0.63364823, 0.74880388])"
      ]
     },
     "execution_count": 175,
     "metadata": {},
     "output_type": "execute_result"
    }
   ],
   "source": [
    "randomnumbers=np.random.random(4)\n",
    "randomnumbers"
   ]
  },
  {
   "cell_type": "code",
   "execution_count": 179,
   "metadata": {},
   "outputs": [
    {
     "data": {
      "text/plain": [
       "array([ True, False,  True,  True])"
      ]
     },
     "execution_count": 179,
     "metadata": {},
     "output_type": "execute_result"
    }
   ],
   "source": [
    "Tails=randomnumbers>=0.5\n",
    "Tails"
   ]
  },
  {
   "cell_type": "code",
   "execution_count": 180,
   "metadata": {},
   "outputs": [
    {
     "data": {
      "text/plain": [
       "3"
      ]
     },
     "execution_count": 180,
     "metadata": {},
     "output_type": "execute_result"
    }
   ],
   "source": [
    "Tails.sum()"
   ]
  },
  {
   "cell_type": "code",
   "execution_count": 211,
   "metadata": {},
   "outputs": [
    {
     "data": {
      "text/plain": [
       "0.488"
      ]
     },
     "execution_count": 211,
     "metadata": {},
     "output_type": "execute_result"
    }
   ],
   "source": [
    "# Probability\n",
    "pallheads=0\n",
    "for i in np.arange(1000):\n",
    "    heads=np.random.random(1)<0.5\n",
    "    p_all_heads=np.sum(heads)\n",
    "    if p_all_heads==1:\n",
    "        pallheads+=1\n",
    "pallheadsperct=pallheads/1000\n",
    "pallheadsperct"
   ]
  },
  {
   "cell_type": "code",
   "execution_count": 206,
   "metadata": {},
   "outputs": [
    {
     "data": {
      "text/plain": [
       "array([0.0679753])"
      ]
     },
     "execution_count": 206,
     "metadata": {},
     "output_type": "execute_result"
    }
   ],
   "source": [
    "np.random.random(1)"
   ]
  },
  {
   "cell_type": "code",
   "execution_count": 238,
   "metadata": {},
   "outputs": [
    {
     "name": "stdout",
     "output_type": "stream",
     "text": [
      "[29 30 36 32 36 32 32 31 33 34 35 33 26 26 40 29 32 31 28 31 29 22 32 34\n",
      " 33 26 29 33 26 25 28 28 34 31 36 32 31 26 27 33 28 29 24 29 31 31 33 27\n",
      " 32 28 27 29 42 30 23 34 27 35 34 28 33 30 28 27 31 28 33 31 31 28 22 30\n",
      " 29 33 32 29 26 35 27 33 34 31 36 28 39 34 37 33 28 27 28 33 34 31 28 25\n",
      " 36 35 33 29]\n"
     ]
    },
    {
     "data": {
      "text/plain": [
       "[<matplotlib.lines.Line2D at 0x2dc8cb3c208>]"
      ]
     },
     "execution_count": 238,
     "metadata": {},
     "output_type": "execute_result"
    },
    {
     "data": {
      "image/png": "[encoded data removed]",
      "text/plain": [
       "<Figure size 432x288 with 1 Axes>"
      ]
     },
     "metadata": {},
     "output_type": "display_data"
    }
   ],
   "source": [
    "# Binomial distribution\n",
    "heads=np.random.binomial(60,0.5,100)\n",
    "import matplotlib.pyplot as plt\n",
    "print(heads)\n",
    "\n",
    "plt.plot(heads)"
   ]
  },
  {
   "cell_type": "code",
   "execution_count": 261,
   "metadata": {},
   "outputs": [
    {
     "name": "stdout",
     "output_type": "stream",
     "text": [
      "[ 0  0  0 ... 15 15 16]\n"
     ]
    },
    {
     "data": {
      "image/png": "[encoded data removed]",
      "text/plain": [
       "<Figure size 432x288 with 1 Axes>"
      ]
     },
     "metadata": {},
     "output_type": "display_data"
    }
   ],
   "source": [
    "import matplotlib.pyplot as plt\n",
    "x=np.sort(np.random.binomial(60,0.1,10000))\n",
    "y=np.arange(1,len(x)+1)/len(x)\n",
    "plt.plot(x,y,marker='.',linestyle='none')\n",
    "print(x)"
   ]
  },
  {
   "cell_type": "code",
   "execution_count": 265,
   "metadata": {},
   "outputs": [
    {
     "name": "stdout",
     "output_type": "stream",
     "text": [
      "[4 2 1 5 4 1 5 4 0 2 4 3 1 3 0 7 4 1 2 2 2 2 3 3 2 7 4 0 6 3 5 5 4 1 4 3 3\n",
      " 3 5 4 3 2 1 2 4 2 0 3 2 4 3 0 3 3 3 7 4 4 1 2 0 2 5 4 1 7 3 6 2 2 1 3 4 4\n",
      " 5 3 5 4 3 4 5 4 5 1 5 4 1 1 3 3 2 1 3 1 5 2 3 2 2 1]\n"
     ]
    },
    {
     "data": {
      "text/plain": [
       "[<matplotlib.lines.Line2D at 0x2dc8e602988>]"
      ]
     },
     "execution_count": 265,
     "metadata": {},
     "output_type": "execute_result"
    },
    {
     "data": {
      "image/png": "[encoded data removed]",
      "text/plain": [
       "<Figure size 432x288 with 1 Axes>"
      ]
     },
     "metadata": {},
     "output_type": "display_data"
    }
   ],
   "source": [
    "# Poisson distribution\n",
    "x=np.random.poisson(3,100)\n",
    "print(x)\n",
    "plt.plot(x)"
   ]
  },
  {
   "cell_type": "code",
   "execution_count": 266,
   "metadata": {},
   "outputs": [
    {
     "name": "stdout",
     "output_type": "stream",
     "text": [
      "[ 1  1  2  2  2  2  2  2  2  3  3  3  3  3  3  3  3  3  3  4  4  4  4  4\n",
      "  4  4  4  4  4  4  4  4  4  4  5  5  5  5  5  5  5  5  5  5  6  6  6  6\n",
      "  6  6  6  6  6  6  6  6  6  6  7  7  7  7  7  7  7  7  7  7  7  7  7  7\n",
      "  8  8  8  8  8  8  8  8  8  8  8  9  9  9  9  9  9  9  9  9  9 10 10 10\n",
      " 11 12 12 13]\n"
     ]
    },
    {
     "data": {
      "image/png": "[encoded data removed]",
      "text/plain": [
       "<Figure size 432x288 with 1 Axes>"
      ]
     },
     "metadata": {},
     "output_type": "display_data"
    }
   ],
   "source": [
    "import matplotlib.pyplot as plt\n",
    "x=np.sort(np.random.poisson(6,100))\n",
    "y=np.arange(1,len(x)+1)/len(x)\n",
    "plt.plot(x,y,marker='.',linestyle='none')\n",
    "print(x)"
   ]
  },
  {
   "cell_type": "code",
   "execution_count": 271,
   "metadata": {},
   "outputs": [
    {
     "data": {
      "text/plain": [
       "[<matplotlib.lines.Line2D at 0x2dc8e7a3c88>]"
      ]
     },
     "execution_count": 271,
     "metadata": {},
     "output_type": "execute_result"
    },
    {
     "data": {
      "image/png": "[encoded data removed]",
      "text/plain": [
       "<Figure size 432x288 with 1 Axes>"
      ]
     },
     "metadata": {},
     "output_type": "display_data"
    }
   ],
   "source": [
    "import numpy as np\n",
    "mean=np.mean(iris['sepal_length'])\n",
    "std=np.std([iris['sepal_length']])\n",
    "x=np.sort(np.random.normal(mean,std,size=10000))\n",
    "y=np.arange(1,len(x)+1)/len(x)\n",
    "x1=np.sort(iris['sepal_length'])\n",
    "y1=np.arange(1,len(x1)+1)/len(x1)\n",
    "plt.plot(x1,y1,marker='.',linestyle='none')\n",
    "plt.plot(x,y)"
   ]
  },
  {
   "cell_type": "code",
   "execution_count": 280,
   "metadata": {},
   "outputs": [],
   "source": [
    "creatingbootstrapsampleofIriscolumn=np.random.choice(iris['sepal_length'],size=len(iris['sepal_length']))"
   ]
  },
  {
   "cell_type": "code",
   "execution_count": 281,
   "metadata": {},
   "outputs": [
    {
     "data": {
      "text/plain": [
       "5.888"
      ]
     },
     "execution_count": 281,
     "metadata": {},
     "output_type": "execute_result"
    }
   ],
   "source": [
    "bootstrapreplicate=np.mean(creatingbootstrapsampleofIriscolumn)"
   ]
  },
  {
   "cell_type": "code",
   "execution_count": 781,
   "metadata": {},
   "outputs": [
    {
     "name": "stdout",
     "output_type": "stream",
     "text": [
      "-0.061884797964143874\n",
      "3.4189468361038133\n"
     ]
    }
   ],
   "source": [
    "slope,intercept=np.polyfit(iris['sepal_length'],iris['sepal_width'],1)\n",
    "print(slope)\n",
    "print(intercept)"
   ]
  },
  {
   "cell_type": "code",
   "execution_count": 284,
   "metadata": {},
   "outputs": [
    {
     "data": {
      "text/plain": [
       "[<matplotlib.lines.Line2D at 0x2dc8e7cc908>]"
      ]
     },
     "execution_count": 284,
     "metadata": {},
     "output_type": "execute_result"
    },
    {
     "data": {
      "image/png": "[encoded data removed]",
      "text/plain": [
       "<Figure size 432x288 with 1 Axes>"
      ]
     },
     "metadata": {},
     "output_type": "display_data"
    }
   ],
   "source": [
    "plt.plot(iris['sepal_length'],iris['petal_length'],marker='.',linestyle='none')"
   ]
  },
  {
   "cell_type": "code",
   "execution_count": 294,
   "metadata": {},
   "outputs": [
    {
     "data": {
      "text/plain": [
       "[<matplotlib.lines.Line2D at 0x2dc8fd2cf48>]"
      ]
     },
     "execution_count": 294,
     "metadata": {},
     "output_type": "execute_result"
    },
    {
     "data": {
      "image/png": "[encoded data removed]",
      "text/plain": [
       "<Figure size 432x288 with 1 Axes>"
      ]
     },
     "metadata": {},
     "output_type": "display_data"
    }
   ],
   "source": [
    "#y=mx+c\n",
    "x=np.arange(0,8)\n",
    "y=slope*x+intercept\n",
    "plt.plot(iris['sepal_length'],iris['petal_length'],marker='.',linestyle='none')\n",
    "plt.plot(x,y)"
   ]
  },
  {
   "cell_type": "code",
   "execution_count": 296,
   "metadata": {},
   "outputs": [
    {
     "name": "stdout",
     "output_type": "stream",
     "text": [
      "(237, 4)\n"
     ]
    },
    {
     "data": {
      "text/html": [
       "<div>\n",
       "<style scoped>\n",
       "    .dataframe tbody tr th:only-of-type {\n",
       "        vertical-align: middle;\n",
       "    }\n",
       "\n",
       "    .dataframe tbody tr th {\n",
       "        vertical-align: top;\n",
       "    }\n",
       "\n",
       "    .dataframe thead th {\n",
       "        text-align: right;\n",
       "    }\n",
       "</style>\n",
       "<table border=\"1\" class=\"dataframe\">\n",
       "  <thead>\n",
       "    <tr style=\"text-align: right;\">\n",
       "      <th></th>\n",
       "      <th>Gender</th>\n",
       "      <th>Age Range</th>\n",
       "      <th>Head Size(cm^3)</th>\n",
       "      <th>Brain Weight(grams)</th>\n",
       "    </tr>\n",
       "  </thead>\n",
       "  <tbody>\n",
       "    <tr>\n",
       "      <th>0</th>\n",
       "      <td>1</td>\n",
       "      <td>1</td>\n",
       "      <td>4512</td>\n",
       "      <td>1530</td>\n",
       "    </tr>\n",
       "    <tr>\n",
       "      <th>1</th>\n",
       "      <td>1</td>\n",
       "      <td>1</td>\n",
       "      <td>3738</td>\n",
       "      <td>1297</td>\n",
       "    </tr>\n",
       "    <tr>\n",
       "      <th>2</th>\n",
       "      <td>1</td>\n",
       "      <td>1</td>\n",
       "      <td>4261</td>\n",
       "      <td>1335</td>\n",
       "    </tr>\n",
       "    <tr>\n",
       "      <th>3</th>\n",
       "      <td>1</td>\n",
       "      <td>1</td>\n",
       "      <td>3777</td>\n",
       "      <td>1282</td>\n",
       "    </tr>\n",
       "    <tr>\n",
       "      <th>4</th>\n",
       "      <td>1</td>\n",
       "      <td>1</td>\n",
       "      <td>4177</td>\n",
       "      <td>1590</td>\n",
       "    </tr>\n",
       "  </tbody>\n",
       "</table>\n",
       "</div>"
      ],
      "text/plain": [
       "   Gender  Age Range  Head Size(cm^3)  Brain Weight(grams)\n",
       "0       1          1             4512                 1530\n",
       "1       1          1             3738                 1297\n",
       "2       1          1             4261                 1335\n",
       "3       1          1             3777                 1282\n",
       "4       1          1             4177                 1590"
      ]
     },
     "execution_count": 296,
     "metadata": {},
     "output_type": "execute_result"
    }
   ],
   "source": [
    "#consider headsize and human brain of different people\n",
    "import numpy as np\n",
    "import matplotlib.pyplot as plt\n",
    "%matplotlib inline\n",
    "import pandas as pd\n",
    "\n",
    "#Reading data\n",
    "data=pd.read_csv('headbrain.csv')\n",
    "print(data.shape)\n",
    "data.head()"
   ]
  },
  {
   "cell_type": "code",
   "execution_count": 297,
   "metadata": {},
   "outputs": [],
   "source": [
    "#collecting X and Y Values\n",
    "X=data['Head Size(cm^3)'].values\n",
    "Y=data['Brain Weight(grams)'].values"
   ]
  },
  {
   "cell_type": "code",
   "execution_count": 299,
   "metadata": {},
   "outputs": [
    {
     "name": "stdout",
     "output_type": "stream",
     "text": [
      "0.26342933948939934\n",
      "325.57342104944274\n"
     ]
    }
   ],
   "source": [
    "slope,intercept=np.polyfit(X,Y,1)\n",
    "print(slope)\n",
    "print(intercept)"
   ]
  },
  {
   "cell_type": "code",
   "execution_count": 342,
   "metadata": {},
   "outputs": [
    {
     "name": "stdout",
     "output_type": "stream",
     "text": [
      "209    2720\n",
      "195    2773\n",
      "134    2857\n",
      "221    2864\n",
      "210    2937\n",
      "       ... \n",
      "109    4430\n",
      "62     4442\n",
      "122    4488\n",
      "0      4512\n",
      "24     4747\n",
      "Name: Head Size(cm^3), Length: 237, dtype: int64\n"
     ]
    },
    {
     "data": {
      "image/png": "[encoded data removed]",
      "text/plain": [
       "<Figure size 432x288 with 1 Axes>"
      ]
     },
     "metadata": {
      "needs_background": "light"
     },
     "output_type": "display_data"
    }
   ],
   "source": [
    "#y=mx+c\n",
    "x=np.arange(data['Head Size(cm^3)'].min(),data['Head Size(cm^3)'].max())\n",
    "y=slope*x+intercept\n",
    "plt.plot(X,Y,marker='.',linestyle='none')\n",
    "plt.plot(x,y)\n",
    "print(data['Head Size(cm^3)'].sort_values())"
   ]
  },
  {
   "cell_type": "code",
   "execution_count": 307,
   "metadata": {},
   "outputs": [
    {
     "data": {
      "text/plain": [
       "array([  10.,   20.,   25.,   50.,  100.,  200.,  250.,  500., 1000.,\n",
       "       2000.])"
      ]
     },
     "execution_count": 307,
     "metadata": {},
     "output_type": "execute_result"
    }
   ],
   "source": [
    "np.empty(10)"
   ]
  },
  {
   "cell_type": "code",
   "execution_count": 309,
   "metadata": {},
   "outputs": [
    {
     "data": {
      "text/plain": [
       "array([0.07871474, 0.81807494, 0.2398028 , 0.92316233, 0.40524281,\n",
       "       0.51766841, 0.85542049, 0.85564773, 0.70767912, 0.39415792])"
      ]
     },
     "execution_count": 309,
     "metadata": {},
     "output_type": "execute_result"
    }
   ],
   "source": [
    "np.random.random(10)"
   ]
  },
  {
   "cell_type": "code",
   "execution_count": 311,
   "metadata": {},
   "outputs": [
    {
     "data": {
      "text/plain": [
       "0.7995697092542962"
      ]
     },
     "execution_count": 311,
     "metadata": {},
     "output_type": "execute_result"
    }
   ],
   "source": [
    "np.corrcoef(X,Y)[1,0]"
   ]
  },
  {
   "cell_type": "code",
   "execution_count": 320,
   "metadata": {},
   "outputs": [],
   "source": [
    "def pearson(x,y):\n",
    "    corecoff_matrix=np.corrcoef(x,y)[1,0]\n",
    "    return corecoff_matrix"
   ]
  },
  {
   "cell_type": "code",
   "execution_count": 791,
   "metadata": {},
   "outputs": [
    {
     "data": {
      "text/plain": [
       "[<matplotlib.lines.Line2D at 0x2dc95de0708>]"
      ]
     },
     "execution_count": 791,
     "metadata": {},
     "output_type": "execute_result"
    },
    {
     "data": {
      "image/png": "[encoded data removed]",
      "text/plain": [
       "<Figure size 432x288 with 1 Axes>"
      ]
     },
     "metadata": {
      "needs_background": "light"
     },
     "output_type": "display_data"
    }
   ],
   "source": [
    "plt.plot(iris['sepal_length'],iris['sepal_width'],marker='.',linestyle='none')"
   ]
  },
  {
   "cell_type": "code",
   "execution_count": 792,
   "metadata": {},
   "outputs": [
    {
     "name": "stdout",
     "output_type": "stream",
     "text": [
      "-0.061884797964143874\n",
      "3.4189468361038133\n"
     ]
    }
   ],
   "source": [
    "from scipy.interpolate import *\n",
    "slope, intercept=np.polyfit(iris['sepal_length'],iris['sepal_width'],1)\n",
    "print(slope)\n",
    "print(intercept)"
   ]
  },
  {
   "cell_type": "code",
   "execution_count": 793,
   "metadata": {},
   "outputs": [
    {
     "data": {
      "text/plain": [
       "array([[5.1, 4.9, 4.7, 4.6, 5. , 5.4, 4.6, 5. , 4.4, 4.9, 5.4, 4.8, 4.8,\n",
       "        4.3, 5.8, 5.7, 5.4, 5.1, 5.7, 5.1, 5.4, 5.1, 4.6, 5.1, 4.8, 5. ,\n",
       "        5. , 5.2, 5.2, 4.7, 4.8, 5.4, 5.2, 5.5, 4.9, 5. , 5.5, 4.9, 4.4,\n",
       "        5.1, 5. , 4.5, 4.4, 5. , 5.1, 4.8, 5.1, 4.6, 5.3, 5. , 7. , 6.4,\n",
       "        6.9, 5.5, 6.5, 5.7, 6.3, 4.9, 6.6, 5.2, 5. , 5.9, 6. , 6.1, 5.6,\n",
       "        6.7, 5.6, 5.8, 6.2, 5.6, 5.9, 6.1, 6.3, 6.1, 6.4, 6.6, 6.8, 6.7,\n",
       "        6. , 5.7, 5.5, 5.5, 5.8, 6. , 5.4, 6. , 6.7, 6.3, 5.6, 5.5, 5.5,\n",
       "        6.1, 5.8, 5. , 5.6, 5.7, 5.7, 6.2, 5.1, 5.7, 6.3, 5.8, 7.1, 6.3,\n",
       "        6.5, 7.6, 4.9, 7.3, 6.7, 7.2, 6.5, 6.4, 6.8, 5.7, 5.8, 6.4, 6.5,\n",
       "        7.7, 7.7, 6. , 6.9, 5.6, 7.7, 6.3, 6.7, 7.2, 6.2, 6.1, 6.4, 7.2,\n",
       "        7.4, 7.9, 6.4, 6.3, 6.1, 7.7, 6.3, 6.4, 6. , 6.9, 6.7, 6.9, 5.8,\n",
       "        6.8, 6.7, 6.7, 6.3, 6.5, 6.2, 5.9]])"
      ]
     },
     "execution_count": 793,
     "metadata": {},
     "output_type": "execute_result"
    }
   ],
   "source": [
    "#y=mx+c\n",
    "x=np.array([iris['sepal_length']])\n",
    "x"
   ]
  },
  {
   "cell_type": "code",
   "execution_count": 794,
   "metadata": {},
   "outputs": [
    {
     "data": {
      "text/plain": [
       "[<matplotlib.lines.Line2D at 0x2dc98646208>]"
      ]
     },
     "execution_count": 794,
     "metadata": {},
     "output_type": "execute_result"
    },
    {
     "data": {
      "image/png": "[encoded data removed]",
      "text/plain": [
       "<Figure size 432x288 with 1 Axes>"
      ]
     },
     "metadata": {
      "needs_background": "light"
     },
     "output_type": "display_data"
    }
   ],
   "source": [
    "x=np.array([iris['sepal_length'].min(),iris['sepal_length'].max()])\n",
    "y=slope*x+intercept\n",
    "plt.plot(iris['sepal_length'],iris['sepal_width'],marker='.',linestyle='none')\n",
    "plt.plot(x,y)"
   ]
  },
  {
   "cell_type": "code",
   "execution_count": 346,
   "metadata": {},
   "outputs": [
    {
     "data": {
      "text/plain": [
       "[<matplotlib.lines.Line2D at 0x2dc9070e848>]"
      ]
     },
     "execution_count": 346,
     "metadata": {},
     "output_type": "execute_result"
    },
    {
     "data": {
      "image/png": "[encoded data removed]",
      "text/plain": [
       "<Figure size 432x288 with 1 Axes>"
      ]
     },
     "metadata": {
      "needs_background": "light"
     },
     "output_type": "display_data"
    }
   ],
   "source": [
    "x=np.arange(iris['sepal_length'].min(),iris['sepal_length'].max())\n",
    "y=slope*x+intercept\n",
    "plt.plot(iris['sepal_length'],iris['petal_length'],marker='.',linestyle='none')\n",
    "plt.plot(x,y)"
   ]
  },
  {
   "cell_type": "code",
   "execution_count": 349,
   "metadata": {},
   "outputs": [],
   "source": [
    "tips=sns.load_dataset('tips')"
   ]
  },
  {
   "cell_type": "code",
   "execution_count": 350,
   "metadata": {},
   "outputs": [
    {
     "data": {
      "text/html": [
       "<div>\n",
       "<style scoped>\n",
       "    .dataframe tbody tr th:only-of-type {\n",
       "        vertical-align: middle;\n",
       "    }\n",
       "\n",
       "    .dataframe tbody tr th {\n",
       "        vertical-align: top;\n",
       "    }\n",
       "\n",
       "    .dataframe thead th {\n",
       "        text-align: right;\n",
       "    }\n",
       "</style>\n",
       "<table border=\"1\" class=\"dataframe\">\n",
       "  <thead>\n",
       "    <tr style=\"text-align: right;\">\n",
       "      <th></th>\n",
       "      <th>total_bill</th>\n",
       "      <th>tip</th>\n",
       "      <th>sex</th>\n",
       "      <th>smoker</th>\n",
       "      <th>day</th>\n",
       "      <th>time</th>\n",
       "      <th>size</th>\n",
       "    </tr>\n",
       "  </thead>\n",
       "  <tbody>\n",
       "    <tr>\n",
       "      <th>0</th>\n",
       "      <td>16.99</td>\n",
       "      <td>1.01</td>\n",
       "      <td>Female</td>\n",
       "      <td>No</td>\n",
       "      <td>Sun</td>\n",
       "      <td>Dinner</td>\n",
       "      <td>2</td>\n",
       "    </tr>\n",
       "    <tr>\n",
       "      <th>1</th>\n",
       "      <td>10.34</td>\n",
       "      <td>1.66</td>\n",
       "      <td>Male</td>\n",
       "      <td>No</td>\n",
       "      <td>Sun</td>\n",
       "      <td>Dinner</td>\n",
       "      <td>3</td>\n",
       "    </tr>\n",
       "    <tr>\n",
       "      <th>2</th>\n",
       "      <td>21.01</td>\n",
       "      <td>3.50</td>\n",
       "      <td>Male</td>\n",
       "      <td>No</td>\n",
       "      <td>Sun</td>\n",
       "      <td>Dinner</td>\n",
       "      <td>3</td>\n",
       "    </tr>\n",
       "    <tr>\n",
       "      <th>3</th>\n",
       "      <td>23.68</td>\n",
       "      <td>3.31</td>\n",
       "      <td>Male</td>\n",
       "      <td>No</td>\n",
       "      <td>Sun</td>\n",
       "      <td>Dinner</td>\n",
       "      <td>2</td>\n",
       "    </tr>\n",
       "    <tr>\n",
       "      <th>4</th>\n",
       "      <td>24.59</td>\n",
       "      <td>3.61</td>\n",
       "      <td>Female</td>\n",
       "      <td>No</td>\n",
       "      <td>Sun</td>\n",
       "      <td>Dinner</td>\n",
       "      <td>4</td>\n",
       "    </tr>\n",
       "  </tbody>\n",
       "</table>\n",
       "</div>"
      ],
      "text/plain": [
       "   total_bill   tip     sex smoker  day    time  size\n",
       "0       16.99  1.01  Female     No  Sun  Dinner     2\n",
       "1       10.34  1.66    Male     No  Sun  Dinner     3\n",
       "2       21.01  3.50    Male     No  Sun  Dinner     3\n",
       "3       23.68  3.31    Male     No  Sun  Dinner     2\n",
       "4       24.59  3.61  Female     No  Sun  Dinner     4"
      ]
     },
     "execution_count": 350,
     "metadata": {},
     "output_type": "execute_result"
    }
   ],
   "source": [
    "tips.head()"
   ]
  },
  {
   "cell_type": "code",
   "execution_count": 351,
   "metadata": {},
   "outputs": [
    {
     "name": "stdout",
     "output_type": "stream",
     "text": [
      "0.33633935032774437\n",
      "1.5612330249476587\n"
     ]
    }
   ],
   "source": [
    "slope,intercept=np.polyfit(tips['tip'],tips['size'],1)\n",
    "print(slope)\n",
    "print(intercept)"
   ]
  },
  {
   "cell_type": "code",
   "execution_count": 352,
   "metadata": {},
   "outputs": [
    {
     "data": {
      "text/plain": [
       "[<matplotlib.lines.Line2D at 0x2dc918d1708>]"
      ]
     },
     "execution_count": 352,
     "metadata": {},
     "output_type": "execute_result"
    },
    {
     "data": {
      "image/png": "[encoded data removed]",
      "text/plain": [
       "<Figure size 432x288 with 1 Axes>"
      ]
     },
     "metadata": {
      "needs_background": "light"
     },
     "output_type": "display_data"
    }
   ],
   "source": [
    "x=np.arange(tips['tip'].min(),tips['tip'].max())\n",
    "y=slope*x+intercept\n",
    "plt.plot(tips['tip'],tips['size'],marker='.',linestyle='none')\n",
    "plt.plot(x,y)"
   ]
  },
  {
   "cell_type": "code",
   "execution_count": 478,
   "metadata": {},
   "outputs": [
    {
     "data": {
      "text/plain": [
       "array([[0.77005396, 0.52745535, 0.87076322, 0.81398584, 0.32797353,\n",
       "        0.47195866, 0.85729482, 0.74920067, 0.85794952, 0.17113998],\n",
       "       [0.14191201, 0.74994455, 0.22462723, 0.13677346, 0.43928015,\n",
       "        0.91149924, 0.50819084, 0.37773311, 0.16001324, 0.78505112],\n",
       "       [0.79822876, 0.78193717, 0.38625751, 0.76977536, 0.73513213,\n",
       "        0.25985898, 0.12000949, 0.45958928, 0.73063401, 0.52044073],\n",
       "       [0.5264681 , 0.6560818 , 0.09193403, 0.42031529, 0.30430489,\n",
       "        0.02117275, 0.14054468, 0.71764992, 0.75654862, 0.90172096]])"
      ]
     },
     "execution_count": 478,
     "metadata": {},
     "output_type": "execute_result"
    }
   ],
   "source": [
    "xarray=np.array([np.random.random(10),np.random.random(10),np.random.random(10),np.random.random(10)])\n",
    "xarray"
   ]
  },
  {
   "cell_type": "code",
   "execution_count": 479,
   "metadata": {},
   "outputs": [
    {
     "data": {
      "text/plain": [
       "array([[6.96478144e-01, 6.37491074e-01, 8.79471805e-02, 2.92065342e-01,\n",
       "        1.12709432e-02, 7.78882415e-01, 9.50482359e-01, 7.63510202e-01,\n",
       "        2.73752675e-01, 8.45149056e-01],\n",
       "       [5.55869306e-01, 8.56947030e-01, 8.60653136e-01, 3.38702897e-01,\n",
       "        3.47774427e-01, 5.55680879e-01, 7.29176239e-01, 3.70375915e-01,\n",
       "        6.93218456e-01, 4.34229373e-01],\n",
       "       [7.43905368e-01, 8.55830868e-01, 6.38765909e-01, 6.97349719e-01,\n",
       "        9.86882559e-01, 4.35134452e-04, 2.35540060e-01, 9.65009438e-01,\n",
       "        6.17789687e-03, 3.88190187e-01],\n",
       "       [7.18708473e-01, 5.89556801e-01, 5.55298258e-01, 8.53001088e-02,\n",
       "        4.80425725e-01, 8.53269471e-01, 6.77131200e-01, 6.44094100e-01,\n",
       "        7.00632127e-01, 9.00341274e-01]])"
      ]
     },
     "execution_count": 479,
     "metadata": {},
     "output_type": "execute_result"
    }
   ],
   "source": [
    "yarray=np.array([np.random.random(10),np.random.random(10),np.random.random(10),np.random.random(10)])\n",
    "yarray"
   ]
  },
  {
   "cell_type": "code",
   "execution_count": 505,
   "metadata": {},
   "outputs": [
    {
     "name": "stdout",
     "output_type": "stream",
     "text": [
      "slope and intercept of 0 st array is -0.17805396334750173 , 0.6479739764129737\n",
      "slope and intercept of 1 st array is 0.04775299329795888 , 0.5530841941442184\n",
      "slope and intercept of 2 st array is 0.7126373229252819 , 0.15544956833968188\n",
      "slope and intercept of 3 st array is 0.11880223448953697 , 0.5665782567453941\n"
     ]
    }
   ],
   "source": [
    "for i in np.arange(0,len(xarray)):\n",
    "    a,b=np.polyfit(xarray[i],yarray[i],1)\n",
    "    print('slope and intercept of',i,'st array is',a,',',b)"
   ]
  },
  {
   "cell_type": "markdown",
   "metadata": {},
   "source": [
    "# BootStrat Model"
   ]
  },
  {
   "cell_type": "code",
   "execution_count": 519,
   "metadata": {},
   "outputs": [
    {
     "data": {
      "text/plain": [
       "array([0])"
      ]
     },
     "execution_count": 519,
     "metadata": {},
     "output_type": "execute_result"
    }
   ],
   "source": [
    "np.arange(1)"
   ]
  },
  {
   "cell_type": "code",
   "execution_count": 534,
   "metadata": {},
   "outputs": [],
   "source": [
    "def ecdf(data):\n",
    "    x=np.sort(data)\n",
    "    n=len(x)\n",
    "    y=np.arange(1,(n+1))/n\n",
    "    return x,y"
   ]
  },
  {
   "cell_type": "code",
   "execution_count": 535,
   "metadata": {},
   "outputs": [
    {
     "data": {
      "text/plain": [
       "(array([1. , 1.1, 1.2, 1.2, 1.3, 1.3, 1.3, 1.3, 1.3, 1.3, 1.3, 1.4, 1.4,\n",
       "        1.4, 1.4, 1.4, 1.4, 1.4, 1.4, 1.4, 1.4, 1.4, 1.4, 1.4, 1.5, 1.5,\n",
       "        1.5, 1.5, 1.5, 1.5, 1.5, 1.5, 1.5, 1.5, 1.5, 1.5, 1.5, 1.6, 1.6,\n",
       "        1.6, 1.6, 1.6, 1.6, 1.6, 1.7, 1.7, 1.7, 1.7, 1.9, 1.9, 3. , 3.3,\n",
       "        3.3, 3.5, 3.5, 3.6, 3.7, 3.8, 3.9, 3.9, 3.9, 4. , 4. , 4. , 4. ,\n",
       "        4. , 4.1, 4.1, 4.1, 4.2, 4.2, 4.2, 4.2, 4.3, 4.3, 4.4, 4.4, 4.4,\n",
       "        4.4, 4.5, 4.5, 4.5, 4.5, 4.5, 4.5, 4.5, 4.5, 4.6, 4.6, 4.6, 4.7,\n",
       "        4.7, 4.7, 4.7, 4.7, 4.8, 4.8, 4.8, 4.8, 4.9, 4.9, 4.9, 4.9, 4.9,\n",
       "        5. , 5. , 5. , 5. , 5.1, 5.1, 5.1, 5.1, 5.1, 5.1, 5.1, 5.1, 5.2,\n",
       "        5.2, 5.3, 5.3, 5.4, 5.4, 5.5, 5.5, 5.5, 5.6, 5.6, 5.6, 5.6, 5.6,\n",
       "        5.6, 5.7, 5.7, 5.7, 5.8, 5.8, 5.8, 5.9, 5.9, 6. , 6. , 6.1, 6.1,\n",
       "        6.1, 6.3, 6.4, 6.6, 6.7, 6.7, 6.9]),\n",
       " array([0.00666667, 0.01333333, 0.02      , 0.02666667, 0.03333333,\n",
       "        0.04      , 0.04666667, 0.05333333, 0.06      , 0.06666667,\n",
       "        0.07333333, 0.08      , 0.08666667, 0.09333333, 0.1       ,\n",
       "        0.10666667, 0.11333333, 0.12      , 0.12666667, 0.13333333,\n",
       "        0.14      , 0.14666667, 0.15333333, 0.16      , 0.16666667,\n",
       "        0.17333333, 0.18      , 0.18666667, 0.19333333, 0.2       ,\n",
       "        0.20666667, 0.21333333, 0.22      , 0.22666667, 0.23333333,\n",
       "        0.24      , 0.24666667, 0.25333333, 0.26      , 0.26666667,\n",
       "        0.27333333, 0.28      , 0.28666667, 0.29333333, 0.3       ,\n",
       "        0.30666667, 0.31333333, 0.32      , 0.32666667, 0.33333333,\n",
       "        0.34      , 0.34666667, 0.35333333, 0.36      , 0.36666667,\n",
       "        0.37333333, 0.38      , 0.38666667, 0.39333333, 0.4       ,\n",
       "        0.40666667, 0.41333333, 0.42      , 0.42666667, 0.43333333,\n",
       "        0.44      , 0.44666667, 0.45333333, 0.46      , 0.46666667,\n",
       "        0.47333333, 0.48      , 0.48666667, 0.49333333, 0.5       ,\n",
       "        0.50666667, 0.51333333, 0.52      , 0.52666667, 0.53333333,\n",
       "        0.54      , 0.54666667, 0.55333333, 0.56      , 0.56666667,\n",
       "        0.57333333, 0.58      , 0.58666667, 0.59333333, 0.6       ,\n",
       "        0.60666667, 0.61333333, 0.62      , 0.62666667, 0.63333333,\n",
       "        0.64      , 0.64666667, 0.65333333, 0.66      , 0.66666667,\n",
       "        0.67333333, 0.68      , 0.68666667, 0.69333333, 0.7       ,\n",
       "        0.70666667, 0.71333333, 0.72      , 0.72666667, 0.73333333,\n",
       "        0.74      , 0.74666667, 0.75333333, 0.76      , 0.76666667,\n",
       "        0.77333333, 0.78      , 0.78666667, 0.79333333, 0.8       ,\n",
       "        0.80666667, 0.81333333, 0.82      , 0.82666667, 0.83333333,\n",
       "        0.84      , 0.84666667, 0.85333333, 0.86      , 0.86666667,\n",
       "        0.87333333, 0.88      , 0.88666667, 0.89333333, 0.9       ,\n",
       "        0.90666667, 0.91333333, 0.92      , 0.92666667, 0.93333333,\n",
       "        0.94      , 0.94666667, 0.95333333, 0.96      , 0.96666667,\n",
       "        0.97333333, 0.98      , 0.98666667, 0.99333333, 1.        ]))"
      ]
     },
     "execution_count": 535,
     "metadata": {},
     "output_type": "execute_result"
    }
   ],
   "source": [
    "ecdf(iris['petal_length'])"
   ]
  },
  {
   "cell_type": "code",
   "execution_count": 565,
   "metadata": {},
   "outputs": [],
   "source": [
    "headbrain=pd.read_csv('headbrain.csv')\n",
    "headbrain=headbrain['Head Size(cm^3)']\n",
    "headbrain=np.array(headbrain)"
   ]
  },
  {
   "cell_type": "code",
   "execution_count": 566,
   "metadata": {},
   "outputs": [
    {
     "data": {
      "text/plain": [
       "numpy.ndarray"
      ]
     },
     "execution_count": 566,
     "metadata": {},
     "output_type": "execute_result"
    }
   ],
   "source": [
    "type(headbrain)"
   ]
  },
  {
   "cell_type": "code",
   "execution_count": 567,
   "metadata": {},
   "outputs": [
    {
     "name": "stdout",
     "output_type": "stream",
     "text": [
      "[4253 3667 3104 3666 3381 3389 3900 3381 3318 3248 3399 4177 4012 3700\n",
      " 3685 3497 3329 3218 3687 3853 3399 3495 3495 3302 3228 3727 3982 4034\n",
      " 3082 4423 3687 3571 3937 3438 3863 3394 3832 3165 3329 3246 4166 3962\n",
      " 3067 3589 3580 3858 3532 3661 3277 4022 4063 3292 3710 3451 4308 3689\n",
      " 2939 3479 4424 3876 3344 3360 3233 4261 3856 3937 3614 3071 3982 3527\n",
      " 3292 3171 3506 3685 3982 3824 3399 4006 3354 4381 3740 3654 4204 3703\n",
      " 3832 3632 3640 4158 3473 4261 3292 4161 3493 3268 4057 3503 3899 4022\n",
      " 3399 3878 3318 3466 4036 4006 3654 3334 3372 4012 3641 3309 3559 3503\n",
      " 3171 3000 3835 3391 3777 4177 3740 3615 3165 3309 3067 3890 3458 3687\n",
      " 4046 4051 4005 3779 3391 3824 3402 3406 3228 3863 3695 3933 3680 3479\n",
      " 4204 3804 4177 3724 3497 3249 3804 3344 3850 3594 3302 3479 3389 3104\n",
      " 3937 3571 3399 3478 3667 4006 3506 3352 4747 4270 3695 3830 3495 4008\n",
      " 4424 3724 3566 3793 3724 3393 4270 3937 3667 3594 4053 4036 3667 3716\n",
      " 3329 3383 3933 3689 3995 3891 4051 3394 3900 4208 3533 3589 3383 3556\n",
      " 3497 3644 3692 2773 2939 3858 4270 3662 3856 3851 3791 3853 3586 4308\n",
      " 4046 4063 3580 3558 3689 3858 3856 3609 3878 3577 4166 3777 3527 3443\n",
      " 3497 2773 4442 4034 3391 4051 3580 3667 3145 4747 3394 3793 4488]\n"
     ]
    }
   ],
   "source": [
    "bssample=np.random.choice(headbrain,size=len(headbrain))\n",
    "print (bssample)"
   ]
  },
  {
   "cell_type": "code",
   "execution_count": 572,
   "metadata": {},
   "outputs": [
    {
     "data": {
      "text/plain": [
       "[<matplotlib.lines.Line2D at 0x2dc91cbd548>]"
      ]
     },
     "execution_count": 572,
     "metadata": {},
     "output_type": "execute_result"
    },
    {
     "data": {
      "image/png": "[encoded data removed]",
      "text/plain": [
       "<Figure size 432x288 with 1 Axes>"
      ]
     },
     "metadata": {
      "needs_background": "light"
     },
     "output_type": "display_data"
    }
   ],
   "source": [
    "for i in np.arange(50):\n",
    "    bssample=np.random.choice(headbrain,size=len(headbrain))\n",
    "    x,y=ecdf(bssample)\n",
    "    plt.plot(x,y,marker='.',linestyle='none',alpha=0.2)\n",
    "x,y=ecdf(headbrain)\n",
    "plt.plot(x,y,marker='.',color='r')"
   ]
  },
  {
   "cell_type": "code",
   "execution_count": 579,
   "metadata": {},
   "outputs": [
    {
     "data": {
      "text/plain": [
       "3589.0"
      ]
     },
     "execution_count": 579,
     "metadata": {},
     "output_type": "execute_result"
    }
   ],
   "source": [
    "def bs_replicate(data,stat):\n",
    "    a=np.random.choice(data,size=len(data))\n",
    "    return stat(a)\n",
    "bs_replicate(headbrain,np.median)"
   ]
  },
  {
   "cell_type": "code",
   "execution_count": 582,
   "metadata": {},
   "outputs": [
    {
     "data": {
      "text/plain": [
       "array([3633.22362869, 3620.81012658, 3604.25316456, 3643.43037975,\n",
       "       3644.82278481, 3660.27004219, 3605.75105485, 3614.75105485,\n",
       "       3602.14767932, 3661.93670886, 3634.38818565, 3597.11392405,\n",
       "       3608.03797468, 3657.79746835, 3613.61603376, 3678.1814346 ,\n",
       "       3652.15611814, 3642.57805907, 3630.17299578, 3643.44725738,\n",
       "       3634.11392405, 3658.88185654, 3630.78059072, 3623.89451477,\n",
       "       3613.17299578, 3652.51054852, 3644.53164557, 3637.7257384 ,\n",
       "       3667.03375527, 3615.10970464, 3656.74683544, 3623.85654008,\n",
       "       3670.01265823, 3649.40084388, 3661.49367089, 3637.59915612,\n",
       "       3594.16877637, 3667.10126582, 3637.05485232, 3656.97890295,\n",
       "       3641.69198312, 3589.56540084, 3685.51898734, 3603.86075949,\n",
       "       3629.44725738, 3604.60759494, 3638.76793249, 3637.52742616,\n",
       "       3603.9535865 , 3644.2742616 , 3636.86075949, 3623.5443038 ,\n",
       "       3656.61181435, 3625.38396624, 3686.25738397, 3669.73839662,\n",
       "       3658.82278481, 3625.57805907, 3622.40506329, 3647.48945148,\n",
       "       3602.85654008, 3636.092827  , 3627.76371308, 3671.69198312,\n",
       "       3653.15611814, 3642.72995781, 3628.81012658, 3645.48523207,\n",
       "       3599.27004219, 3631.65822785, 3645.43881857, 3657.17299578,\n",
       "       3643.33755274, 3639.        , 3600.62447257, 3663.5443038 ,\n",
       "       3605.24472574, 3610.74683544, 3628.61603376, 3650.92405063,\n",
       "       3612.64556962, 3642.18987342, 3634.03797468, 3625.90295359,\n",
       "       3647.76371308, 3619.20675105, 3620.93670886, 3615.72995781,\n",
       "       3653.57805907, 3635.49367089, 3617.0464135 , 3623.79746835,\n",
       "       3635.33333333, 3656.98312236, 3612.61603376, 3623.65400844,\n",
       "       3588.05485232, 3589.65822785, 3629.23206751, 3654.12658228])"
      ]
     },
     "execution_count": 582,
     "metadata": {},
     "output_type": "execute_result"
    }
   ],
   "source": [
    "def draw_bs_reps(data,stat,size):\n",
    "    samples=np.empty(size)\n",
    "    for i in np.arange(size):\n",
    "        samples[i]=bs_replicate(data,stat)\n",
    "    return samples\n",
    "draw_bs_reps(headbrain,np.mean,100)"
   ]
  },
  {
   "cell_type": "code",
   "execution_count": 584,
   "metadata": {},
   "outputs": [
    {
     "data": {
      "text/plain": [
       "23.676170647091915"
      ]
     },
     "execution_count": 584,
     "metadata": {},
     "output_type": "execute_result"
    }
   ],
   "source": [
    "sem=np.std(headbrain)/np.sqrt(len(headbrain))\n",
    "sem"
   ]
  },
  {
   "cell_type": "code",
   "execution_count": 593,
   "metadata": {},
   "outputs": [
    {
     "data": {
      "text/plain": [
       "22.38532132981539"
      ]
     },
     "execution_count": 593,
     "metadata": {},
     "output_type": "execute_result"
    }
   ],
   "source": [
    "z=np.std(draw_bs_reps(headbrain,np.mean,len(headbrain)))\n",
    "z"
   ]
  },
  {
   "cell_type": "code",
   "execution_count": 609,
   "metadata": {},
   "outputs": [
    {
     "data": {
      "text/plain": [
       "array([4512, 3738, 4261, 3777, 4177, 3585, 3785, 3559, 3613, 3982, 3443,\n",
       "       3993, 3640, 4208, 3832, 3876, 3497, 3466, 3095, 4424, 3878, 4046,\n",
       "       3804, 3710, 4747, 4423, 4036, 4022, 3454, 4175, 3787, 3796, 4103,\n",
       "       4161, 4158, 3814, 3527, 3748, 3334, 3492, 3962, 3505, 4315, 3804,\n",
       "       3863, 4034, 4308, 3165, 3641, 3644, 3891, 3793, 4270, 4063, 4012,\n",
       "       3458, 3890, 4166, 3935, 3669, 3866, 3393, 4442, 4253, 3727, 3329,\n",
       "       3415, 3372, 4430, 4381, 4008, 3858, 4121, 4057, 3824, 3394, 3558,\n",
       "       3362, 3930, 3835, 3830, 3856, 3249, 3577, 3933, 3850, 3309, 3406,\n",
       "       3506, 3907, 4160, 3318, 3662, 3899, 3700, 3779, 3473, 3490, 3654,\n",
       "       3478, 3495, 3834, 3876, 3661, 3618, 3648, 4032, 3399, 3916, 4430,\n",
       "       3695, 3524, 3571, 3594, 3383, 3499, 3589, 3900, 4114, 3937, 3399,\n",
       "       4200, 4488, 3614, 4051, 3782, 3391, 3124, 4053, 3582, 3666, 3532,\n",
       "       4046, 3667, 2857, 3436, 3791, 3302, 3104, 3171, 3572, 3530, 3175,\n",
       "       3438, 3903, 3899, 3401, 3267, 3451, 3090, 3413, 3323, 3680, 3439,\n",
       "       3853, 3156, 3279, 3707, 4006, 3269, 3071, 3779, 3548, 3292, 3497,\n",
       "       3082, 3248, 3358, 3803, 3566, 3145, 3503, 3571, 3724, 3615, 3203,\n",
       "       3609, 3561, 3979, 3533, 3689, 3158, 4005, 3181, 3479, 3642, 3632,\n",
       "       3069, 3394, 3703, 3165, 3354, 3000, 3687, 3556, 2773, 3058, 3344,\n",
       "       3493, 3297, 3360, 3228, 3277, 3851, 3067, 3692, 3402, 3995, 3318,\n",
       "       2720, 2937, 3580, 2939, 2989, 3586, 3156, 3246, 3170, 3268, 3389,\n",
       "       3381, 2864, 3740, 3479, 3647, 3716, 3284, 4204, 3735, 3218, 3685,\n",
       "       3704, 3214, 3394, 3233, 3352, 3391], dtype=int64)"
      ]
     },
     "execution_count": 609,
     "metadata": {},
     "output_type": "execute_result"
    }
   ],
   "source": [
    "headbrain"
   ]
  },
  {
   "cell_type": "code",
   "execution_count": 610,
   "metadata": {},
   "outputs": [
    {
     "data": {
      "text/plain": [
       "array([3587.53871308, 3680.11983122])"
      ]
     },
     "execution_count": 610,
     "metadata": {},
     "output_type": "execute_result"
    }
   ],
   "source": [
    "bsrep=draw_bs_reps(headbrain,np.mean,size=10000)\n",
    "CI=np.percentile(bsrep,[2.5,97.5])\n",
    "CI"
   ]
  },
  {
   "cell_type": "code",
   "execution_count": 616,
   "metadata": {},
   "outputs": [
    {
     "name": "stderr",
     "output_type": "stream",
     "text": [
      "C:\\Users\\v-ankona\\Anaconda3\\lib\\site-packages\\ipykernel_launcher.py:1: MatplotlibDeprecationWarning: \n",
      "The 'normed' kwarg was deprecated in Matplotlib 2.1 and will be removed in 3.1. Use 'density' instead.\n",
      "  \"\"\"Entry point for launching an IPython kernel.\n"
     ]
    },
    {
     "data": {
      "text/plain": [
       "(array([5.24115969e-05, 2.62057984e-05, 7.86173953e-05, 2.62057984e-05,\n",
       "        5.24115969e-05, 2.35852186e-04, 2.88263783e-04, 3.93086977e-04,\n",
       "        5.76527566e-04, 1.07443774e-03, 1.38890732e-03, 1.83440589e-03,\n",
       "        2.88263783e-03, 3.45916540e-03, 4.84807271e-03, 6.21077423e-03,\n",
       "        8.09759172e-03, 9.27685265e-03, 1.02988788e-02, 1.22119021e-02,\n",
       "        1.44393949e-02, 1.52517747e-02, 1.55924501e-02, 1.71385922e-02,\n",
       "        1.66930936e-02, 1.72696212e-02, 1.54352153e-02, 1.50421283e-02,\n",
       "        1.36270152e-02, 1.09278180e-02, 9.66993963e-03, 9.90579181e-03,\n",
       "        6.70868440e-03, 6.07974524e-03, 3.98328136e-03, 3.22331321e-03,\n",
       "        2.56816825e-03, 1.91302329e-03, 9.95820341e-04, 8.12379752e-04,\n",
       "        4.97910171e-04, 3.93086977e-04, 2.35852186e-04, 7.86173953e-05,\n",
       "        1.31028992e-04, 5.24115969e-05, 5.24115969e-05, 0.00000000e+00,\n",
       "        0.00000000e+00, 2.62057984e-05]),\n",
       " array([3541.07594937, 3544.89189873, 3548.7078481 , 3552.52379747,\n",
       "        3556.33974684, 3560.1556962 , 3563.97164557, 3567.78759494,\n",
       "        3571.6035443 , 3575.41949367, 3579.23544304, 3583.05139241,\n",
       "        3586.86734177, 3590.68329114, 3594.49924051, 3598.31518987,\n",
       "        3602.13113924, 3605.94708861, 3609.76303797, 3613.57898734,\n",
       "        3617.39493671, 3621.21088608, 3625.02683544, 3628.84278481,\n",
       "        3632.65873418, 3636.47468354, 3640.29063291, 3644.10658228,\n",
       "        3647.92253165, 3651.73848101, 3655.55443038, 3659.37037975,\n",
       "        3663.18632911, 3667.00227848, 3670.81822785, 3674.63417722,\n",
       "        3678.45012658, 3682.26607595, 3686.08202532, 3689.89797468,\n",
       "        3693.71392405, 3697.52987342, 3701.34582278, 3705.16177215,\n",
       "        3708.97772152, 3712.79367089, 3716.60962025, 3720.42556962,\n",
       "        3724.24151899, 3728.05746835, 3731.87341772]),\n",
       " <a list of 50 Patch objects>)"
      ]
     },
     "execution_count": 616,
     "metadata": {},
     "output_type": "execute_result"
    },
    {
     "data": {
      "image/png": "[encoded data removed]",
      "text/plain": [
       "<Figure size 432x288 with 1 Axes>"
      ]
     },
     "metadata": {
      "needs_background": "light"
     },
     "output_type": "display_data"
    }
   ],
   "source": [
    "plt.hist(bsrep,bins=50,normed=True)"
   ]
  },
  {
   "cell_type": "code",
   "execution_count": 618,
   "metadata": {},
   "outputs": [
    {
     "data": {
      "text/plain": [
       "array([2984. , 4424.6])"
      ]
     },
     "execution_count": 618,
     "metadata": {},
     "output_type": "execute_result"
    }
   ],
   "source": [
    "np.percentile(headbrain,[2.5,97.5])\n"
   ]
  },
  {
   "cell_type": "code",
   "execution_count": 620,
   "metadata": {},
   "outputs": [
    {
     "data": {
      "text/plain": [
       "(array([0.00010408, 0.00010408, 0.        , 0.00020816, 0.        ,\n",
       "        0.00020816, 0.00020816, 0.        , 0.0005204 , 0.00041632,\n",
       "        0.00062448, 0.0005204 , 0.0005204 , 0.00083264, 0.00072856,\n",
       "        0.00083264, 0.0015612 , 0.00062448, 0.00093672, 0.00124896,\n",
       "        0.0010408 , 0.00093672, 0.00114488, 0.00114488, 0.00093672,\n",
       "        0.00041632, 0.00135304, 0.00083264, 0.00093672, 0.00093672,\n",
       "        0.00020816, 0.00083264, 0.00093672, 0.00010408, 0.00031224,\n",
       "        0.00062448, 0.00031224, 0.00010408, 0.00020816, 0.00020816,\n",
       "        0.00010408, 0.        , 0.0005204 , 0.00010408, 0.00010408,\n",
       "        0.        , 0.        , 0.        , 0.        , 0.00010408]),\n",
       " array([2720.  , 2760.54, 2801.08, 2841.62, 2882.16, 2922.7 , 2963.24,\n",
       "        3003.78, 3044.32, 3084.86, 3125.4 , 3165.94, 3206.48, 3247.02,\n",
       "        3287.56, 3328.1 , 3368.64, 3409.18, 3449.72, 3490.26, 3530.8 ,\n",
       "        3571.34, 3611.88, 3652.42, 3692.96, 3733.5 , 3774.04, 3814.58,\n",
       "        3855.12, 3895.66, 3936.2 , 3976.74, 4017.28, 4057.82, 4098.36,\n",
       "        4138.9 , 4179.44, 4219.98, 4260.52, 4301.06, 4341.6 , 4382.14,\n",
       "        4422.68, 4463.22, 4503.76, 4544.3 , 4584.84, 4625.38, 4665.92,\n",
       "        4706.46, 4747.  ]),\n",
       " <a list of 50 Patch objects>)"
      ]
     },
     "execution_count": 620,
     "metadata": {},
     "output_type": "execute_result"
    },
    {
     "data": {
      "image/png": "[encoded data removed]",
      "text/plain": [
       "<Figure size 432x288 with 1 Axes>"
      ]
     },
     "metadata": {
      "needs_background": "light"
     },
     "output_type": "display_data"
    }
   ],
   "source": [
    "plt.hist(headbrain,bins=50,density=True)"
   ]
  },
  {
   "cell_type": "code",
   "execution_count": 622,
   "metadata": {},
   "outputs": [
    {
     "data": {
      "text/html": [
       "<div>\n",
       "<style scoped>\n",
       "    .dataframe tbody tr th:only-of-type {\n",
       "        vertical-align: middle;\n",
       "    }\n",
       "\n",
       "    .dataframe tbody tr th {\n",
       "        vertical-align: top;\n",
       "    }\n",
       "\n",
       "    .dataframe thead th {\n",
       "        text-align: right;\n",
       "    }\n",
       "</style>\n",
       "<table border=\"1\" class=\"dataframe\">\n",
       "  <thead>\n",
       "    <tr style=\"text-align: right;\">\n",
       "      <th></th>\n",
       "      <th>age</th>\n",
       "      <th>sex</th>\n",
       "      <th>cp</th>\n",
       "      <th>trestbps</th>\n",
       "      <th>chol</th>\n",
       "      <th>fbs</th>\n",
       "      <th>restecg</th>\n",
       "      <th>thalach</th>\n",
       "      <th>exang</th>\n",
       "      <th>oldpeak</th>\n",
       "      <th>slope</th>\n",
       "      <th>ca</th>\n",
       "      <th>thal</th>\n",
       "      <th>target</th>\n",
       "    </tr>\n",
       "  </thead>\n",
       "  <tbody>\n",
       "    <tr>\n",
       "      <th>0</th>\n",
       "      <td>63</td>\n",
       "      <td>1</td>\n",
       "      <td>3</td>\n",
       "      <td>145</td>\n",
       "      <td>233</td>\n",
       "      <td>1</td>\n",
       "      <td>0</td>\n",
       "      <td>150</td>\n",
       "      <td>0</td>\n",
       "      <td>2.3</td>\n",
       "      <td>0</td>\n",
       "      <td>0</td>\n",
       "      <td>1</td>\n",
       "      <td>1</td>\n",
       "    </tr>\n",
       "    <tr>\n",
       "      <th>1</th>\n",
       "      <td>37</td>\n",
       "      <td>1</td>\n",
       "      <td>2</td>\n",
       "      <td>130</td>\n",
       "      <td>250</td>\n",
       "      <td>0</td>\n",
       "      <td>1</td>\n",
       "      <td>187</td>\n",
       "      <td>0</td>\n",
       "      <td>3.5</td>\n",
       "      <td>0</td>\n",
       "      <td>0</td>\n",
       "      <td>2</td>\n",
       "      <td>1</td>\n",
       "    </tr>\n",
       "    <tr>\n",
       "      <th>2</th>\n",
       "      <td>41</td>\n",
       "      <td>0</td>\n",
       "      <td>1</td>\n",
       "      <td>130</td>\n",
       "      <td>204</td>\n",
       "      <td>0</td>\n",
       "      <td>0</td>\n",
       "      <td>172</td>\n",
       "      <td>0</td>\n",
       "      <td>1.4</td>\n",
       "      <td>2</td>\n",
       "      <td>0</td>\n",
       "      <td>2</td>\n",
       "      <td>1</td>\n",
       "    </tr>\n",
       "    <tr>\n",
       "      <th>3</th>\n",
       "      <td>56</td>\n",
       "      <td>1</td>\n",
       "      <td>1</td>\n",
       "      <td>120</td>\n",
       "      <td>236</td>\n",
       "      <td>0</td>\n",
       "      <td>1</td>\n",
       "      <td>178</td>\n",
       "      <td>0</td>\n",
       "      <td>0.8</td>\n",
       "      <td>2</td>\n",
       "      <td>0</td>\n",
       "      <td>2</td>\n",
       "      <td>1</td>\n",
       "    </tr>\n",
       "    <tr>\n",
       "      <th>4</th>\n",
       "      <td>57</td>\n",
       "      <td>0</td>\n",
       "      <td>0</td>\n",
       "      <td>120</td>\n",
       "      <td>354</td>\n",
       "      <td>0</td>\n",
       "      <td>1</td>\n",
       "      <td>163</td>\n",
       "      <td>1</td>\n",
       "      <td>0.6</td>\n",
       "      <td>2</td>\n",
       "      <td>0</td>\n",
       "      <td>2</td>\n",
       "      <td>1</td>\n",
       "    </tr>\n",
       "  </tbody>\n",
       "</table>\n",
       "</div>"
      ],
      "text/plain": [
       "   age  sex  cp  trestbps  chol  fbs  restecg  thalach  exang  oldpeak  slope  \\\n",
       "0   63    1   3       145   233    1        0      150      0      2.3      0   \n",
       "1   37    1   2       130   250    0        1      187      0      3.5      0   \n",
       "2   41    0   1       130   204    0        0      172      0      1.4      2   \n",
       "3   56    1   1       120   236    0        1      178      0      0.8      2   \n",
       "4   57    0   0       120   354    0        1      163      1      0.6      2   \n",
       "\n",
       "   ca  thal  target  \n",
       "0   0     1       1  \n",
       "1   0     2       1  \n",
       "2   0     2       1  \n",
       "3   0     2       1  \n",
       "4   0     2       1  "
      ]
     },
     "execution_count": 622,
     "metadata": {},
     "output_type": "execute_result"
    }
   ],
   "source": [
    "    heart=pd.read_csv('heart.csv')\n",
    "    heart.head()"
   ]
  },
  {
   "cell_type": "code",
   "execution_count": 625,
   "metadata": {},
   "outputs": [
    {
     "data": {
      "text/plain": [
       "(array([110, 115, 130, 125, 128, 150, 130, 128, 120, 110, 125, 138, 120,\n",
       "        140, 125, 135, 150, 200, 140, 130, 120, 136, 124, 130, 140, 140,\n",
       "        142, 142, 138, 130, 140, 122, 120, 118, 152, 130, 160, 148, 150,\n",
       "        140, 160, 100, 105, 112, 135, 160, 104, 160, 115, 138, 136, 138,\n",
       "        129, 105, 110, 140, 140, 140, 160, 122, 130, 144, 134, 100, 129,\n",
       "        132, 120, 112, 144, 138, 112, 160, 140, 120, 120, 138, 120, 140,\n",
       "        130, 138, 134, 115, 130, 130, 140, 120, 128, 140, 140, 120, 132,\n",
       "        135, 100, 130, 102, 110, 145, 152, 142, 130, 110, 110, 120, 130,\n",
       "        110, 145, 120, 120, 125, 130, 140, 134, 120, 140, 130, 120, 120,\n",
       "        140, 135, 130, 140, 130, 102, 152, 150, 138, 132, 130, 130, 140,\n",
       "        150, 120, 130, 125, 152, 110, 135, 108, 126, 118, 120, 140, 138,\n",
       "        130, 108, 120, 120, 134, 122, 102, 128, 125, 120, 125, 110, 124,\n",
       "        160, 120, 124, 130, 152, 200, 130, 150, 160, 122, 110, 120, 145,\n",
       "        120, 134, 138, 145, 140, 134, 108, 110, 130, 160, 130, 108, 110,\n",
       "        140, 110, 140, 110, 142, 108, 108, 130, 138, 125, 124, 120, 160,\n",
       "        120, 120, 132, 150, 110, 120, 128, 132, 134, 140, 160, 130, 138,\n",
       "        100, 150, 130, 200, 152, 120, 110, 150, 146, 130, 122, 118, 130,\n",
       "        125, 122, 154, 138, 130, 150, 150, 160, 170, 150, 130, 152, 117,\n",
       "        120, 112, 138, 106, 130, 110, 135, 114, 128, 108, 112, 138, 140,\n",
       "        140, 142, 140, 170, 130, 105, 150, 160, 138, 115, 130, 128, 146,\n",
       "        110, 130, 125, 130, 110, 160, 145, 117, 130, 125, 150, 126, 125,\n",
       "        115, 170, 144, 118, 130, 120, 120, 130, 122, 180, 138, 140, 134,\n",
       "        170, 112, 106, 154, 118, 128, 164, 125, 150, 120, 110, 180, 120,\n",
       "        130, 130, 110, 135], dtype=int64),\n",
       " array([304, 178, 220, 203, 186, 225, 300, 219, 245, 204, 254, 224, 271,\n",
       "        175, 216, 407, 198, 220, 248, 180, 236, 263, 288, 197, 177, 243,\n",
       "        192, 289, 240, 265, 326, 302, 223, 229, 273, 233, 203, 270, 160,\n",
       "        269, 168, 325, 307, 185, 244, 239, 229, 232, 220, 330, 263, 192,\n",
       "        169, 211, 269, 267, 233, 264, 248, 226, 299, 226, 240, 149, 289,\n",
       "        217, 187, 244, 224, 226, 247, 248, 304, 245, 268, 330, 299, 259,\n",
       "        185, 226, 197, 239, 204, 177, 253, 203, 228, 192, 235, 185, 240,\n",
       "        236, 263, 212, 234, 175, 212, 255, 303, 263, 265, 286, 245, 273,\n",
       "        269, 141, 298, 417, 327, 183, 229, 298, 253, 197, 233, 284, 256,\n",
       "        226, 157, 325, 247, 208, 149, 274, 207, 259, 249, 309, 250, 307,\n",
       "        212, 232, 188, 214, 278, 228, 261, 269, 221, 295, 263, 141, 266,\n",
       "        213, 243, 275, 327, 290, 231, 175, 564, 246, 286, 214, 233, 236,\n",
       "        196, 290, 166, 254, 164, 255, 193, 262, 214, 201, 197, 215, 288,\n",
       "        282, 246, 360, 226, 183, 201, 258, 278, 263, 244, 304, 271, 289,\n",
       "        175, 260, 250, 274, 227, 321, 264, 275, 307, 258, 246, 220, 230,\n",
       "        219, 325, 208, 235, 248, 267, 409, 203, 213, 211, 295, 204, 197,\n",
       "        308, 232, 255, 263, 277, 340, 269, 278, 197, 290, 274, 244, 216,\n",
       "        204, 564, 315, 222, 160, 239, 233, 282, 211, 193, 214, 258, 322,\n",
       "        270, 263, 322, 295, 244, 254, 244, 234, 306, 199, 288, 214, 319,\n",
       "        197, 236, 282, 239, 262, 290, 212, 271, 232, 313, 126, 269, 326,\n",
       "        234, 340, 283, 260, 293, 271, 274, 204, 256, 177, 184, 249, 197,\n",
       "        178, 224, 248, 248, 239, 231, 248, 249, 229, 261, 230, 273, 295,\n",
       "        168, 327, 201, 234, 264, 254, 217, 185, 226, 205, 204, 215, 261,\n",
       "        307, 239, 299, 286], dtype=int64))"
      ]
     },
     "execution_count": 625,
     "metadata": {},
     "output_type": "execute_result"
    }
   ],
   "source": [
    "def BSPair(var1,var2,size1,size2):\n",
    "    BTStrest=np.random.choice(var1,size=size1)\n",
    "    BSTchol=np.random.choice(var2,size=size2)\n",
    "    return BTStrest,BSTchol\n",
    "BSPair(heart['trestbps'],heart['chol'],len(heart['trestbps']),len(heart['chol']))"
   ]
  },
  {
   "cell_type": "code",
   "execution_count": null,
   "metadata": {},
   "outputs": [],
   "source": [
    "BSPair"
   ]
  },
  {
   "cell_type": "code",
   "execution_count": 637,
   "metadata": {},
   "outputs": [
    {
     "data": {
      "text/plain": [
       "array([1.e-08, 1.e-08, 1.e-08, 1.e-08, 1.e-08, 1.e-08, 1.e-08, 1.e-08,\n",
       "       1.e-08, 1.e-08])"
      ]
     },
     "execution_count": 637,
     "metadata": {},
     "output_type": "execute_result"
    }
   ],
   "source": [
    "np.empty(50)[0:10]"
   ]
  },
  {
   "cell_type": "code",
   "execution_count": 632,
   "metadata": {},
   "outputs": [
    {
     "data": {
      "text/plain": [
       "array([ 0,  1,  2,  3,  4,  5,  6,  7,  8,  9, 10, 11, 12, 13, 14, 15, 16,\n",
       "       17, 18, 19, 20, 21, 22, 23, 24, 25, 26, 27, 28, 29, 30, 31, 32, 33,\n",
       "       34, 35, 36, 37, 38, 39, 40, 41, 42, 43, 44, 45, 46, 47, 48, 49])"
      ]
     },
     "execution_count": 632,
     "metadata": {},
     "output_type": "execute_result"
    }
   ],
   "source": [
    "np.arange(50)"
   ]
  },
  {
   "cell_type": "code",
   "execution_count": 670,
   "metadata": {},
   "outputs": [
    {
     "data": {
      "image/png": "[encoded data removed]",
      "text/plain": [
       "<Figure size 432x288 with 1 Axes>"
      ]
     },
     "metadata": {
      "needs_background": "light"
     },
     "output_type": "display_data"
    }
   ],
   "source": [
    "BSPair(heart['trestbps'],heart['chol'],len(heart['trestbps']),len(heart['chol']))\n",
    "BTStrest\n",
    "BSTchol\n",
    "x,y=ecdf(BTStrest)\n",
    "BTStrest_x=x\n",
    "BTStrest_y=y\n",
    "x,y=ecdf(BSTchol)\n",
    "BSTchol_x=x\n",
    "BSTchol_y=y\n",
    "x,y=ecdf(heart['trestbps'])\n",
    "trestbps_x=x\n",
    "trestbps_y=y\n",
    "x,y=ecdf(heart['chol'])\n",
    "chol_x=x\n",
    "chol_y=y\n",
    "plt.plot(trestbps_x,trestbps_y,marker='.',linestyle='none',color='red',alpha=0.5)\n",
    "plt.plot(chol_x,chol_y,marker='.',linestyle='none',color='red',alpha=0.5)\n",
    "plt.plot(BTStrest_x,BTStrest_y,marker='.',linestyle='none',alpha=0.2,color='blue')\n",
    "plt.plot(BSTchol_x,BSTchol_y,marker='.',linestyle='none',alpha=0.2,color='blue')\n",
    "plt.show()"
   ]
  },
  {
   "cell_type": "code",
   "execution_count": 730,
   "metadata": {},
   "outputs": [
    {
     "data": {
      "text/html": [
       "<div>\n",
       "<style scoped>\n",
       "    .dataframe tbody tr th:only-of-type {\n",
       "        vertical-align: middle;\n",
       "    }\n",
       "\n",
       "    .dataframe tbody tr th {\n",
       "        vertical-align: top;\n",
       "    }\n",
       "\n",
       "    .dataframe thead th {\n",
       "        text-align: right;\n",
       "    }\n",
       "</style>\n",
       "<table border=\"1\" class=\"dataframe\">\n",
       "  <thead>\n",
       "    <tr style=\"text-align: right;\">\n",
       "      <th></th>\n",
       "      <th>TV</th>\n",
       "      <th>Radio</th>\n",
       "      <th>Newspaper</th>\n",
       "      <th>Sales</th>\n",
       "    </tr>\n",
       "  </thead>\n",
       "  <tbody>\n",
       "    <tr>\n",
       "      <th>195</th>\n",
       "      <td>38.2</td>\n",
       "      <td>3.7</td>\n",
       "      <td>13.8</td>\n",
       "      <td>7.6</td>\n",
       "    </tr>\n",
       "    <tr>\n",
       "      <th>196</th>\n",
       "      <td>94.2</td>\n",
       "      <td>4.9</td>\n",
       "      <td>8.1</td>\n",
       "      <td>14.0</td>\n",
       "    </tr>\n",
       "    <tr>\n",
       "      <th>197</th>\n",
       "      <td>177.0</td>\n",
       "      <td>9.3</td>\n",
       "      <td>6.4</td>\n",
       "      <td>14.8</td>\n",
       "    </tr>\n",
       "    <tr>\n",
       "      <th>198</th>\n",
       "      <td>283.6</td>\n",
       "      <td>42.0</td>\n",
       "      <td>66.2</td>\n",
       "      <td>25.5</td>\n",
       "    </tr>\n",
       "    <tr>\n",
       "      <th>199</th>\n",
       "      <td>232.1</td>\n",
       "      <td>8.6</td>\n",
       "      <td>8.7</td>\n",
       "      <td>18.4</td>\n",
       "    </tr>\n",
       "  </tbody>\n",
       "</table>\n",
       "</div>"
      ],
      "text/plain": [
       "        TV  Radio  Newspaper  Sales\n",
       "195   38.2    3.7       13.8    7.6\n",
       "196   94.2    4.9        8.1   14.0\n",
       "197  177.0    9.3        6.4   14.8\n",
       "198  283.6   42.0       66.2   25.5\n",
       "199  232.1    8.6        8.7   18.4"
      ]
     },
     "execution_count": 730,
     "metadata": {},
     "output_type": "execute_result"
    }
   ],
   "source": [
    "data=pd.read_csv('advertising.csv')\n",
    "data.tail()"
   ]
  },
  {
   "cell_type": "code",
   "execution_count": 673,
   "metadata": {},
   "outputs": [],
   "source": [
    "#Features are nothing but independent variables\n",
    "feature_cols=['TV','Radio','Newspaper']"
   ]
  },
  {
   "cell_type": "code",
   "execution_count": 674,
   "metadata": {},
   "outputs": [],
   "source": [
    "X=data[feature_cols]"
   ]
  },
  {
   "cell_type": "code",
   "execution_count": 675,
   "metadata": {},
   "outputs": [
    {
     "data": {
      "text/html": [
       "<div>\n",
       "<style scoped>\n",
       "    .dataframe tbody tr th:only-of-type {\n",
       "        vertical-align: middle;\n",
       "    }\n",
       "\n",
       "    .dataframe tbody tr th {\n",
       "        vertical-align: top;\n",
       "    }\n",
       "\n",
       "    .dataframe thead th {\n",
       "        text-align: right;\n",
       "    }\n",
       "</style>\n",
       "<table border=\"1\" class=\"dataframe\">\n",
       "  <thead>\n",
       "    <tr style=\"text-align: right;\">\n",
       "      <th></th>\n",
       "      <th>TV</th>\n",
       "      <th>Radio</th>\n",
       "      <th>Newspaper</th>\n",
       "    </tr>\n",
       "  </thead>\n",
       "  <tbody>\n",
       "    <tr>\n",
       "      <th>0</th>\n",
       "      <td>230.1</td>\n",
       "      <td>37.8</td>\n",
       "      <td>69.2</td>\n",
       "    </tr>\n",
       "    <tr>\n",
       "      <th>1</th>\n",
       "      <td>44.5</td>\n",
       "      <td>39.3</td>\n",
       "      <td>45.1</td>\n",
       "    </tr>\n",
       "    <tr>\n",
       "      <th>2</th>\n",
       "      <td>17.2</td>\n",
       "      <td>45.9</td>\n",
       "      <td>69.3</td>\n",
       "    </tr>\n",
       "    <tr>\n",
       "      <th>3</th>\n",
       "      <td>151.5</td>\n",
       "      <td>41.3</td>\n",
       "      <td>58.5</td>\n",
       "    </tr>\n",
       "    <tr>\n",
       "      <th>4</th>\n",
       "      <td>180.8</td>\n",
       "      <td>10.8</td>\n",
       "      <td>58.4</td>\n",
       "    </tr>\n",
       "    <tr>\n",
       "      <th>...</th>\n",
       "      <td>...</td>\n",
       "      <td>...</td>\n",
       "      <td>...</td>\n",
       "    </tr>\n",
       "    <tr>\n",
       "      <th>195</th>\n",
       "      <td>38.2</td>\n",
       "      <td>3.7</td>\n",
       "      <td>13.8</td>\n",
       "    </tr>\n",
       "    <tr>\n",
       "      <th>196</th>\n",
       "      <td>94.2</td>\n",
       "      <td>4.9</td>\n",
       "      <td>8.1</td>\n",
       "    </tr>\n",
       "    <tr>\n",
       "      <th>197</th>\n",
       "      <td>177.0</td>\n",
       "      <td>9.3</td>\n",
       "      <td>6.4</td>\n",
       "    </tr>\n",
       "    <tr>\n",
       "      <th>198</th>\n",
       "      <td>283.6</td>\n",
       "      <td>42.0</td>\n",
       "      <td>66.2</td>\n",
       "    </tr>\n",
       "    <tr>\n",
       "      <th>199</th>\n",
       "      <td>232.1</td>\n",
       "      <td>8.6</td>\n",
       "      <td>8.7</td>\n",
       "    </tr>\n",
       "  </tbody>\n",
       "</table>\n",
       "<p>200 rows × 3 columns</p>\n",
       "</div>"
      ],
      "text/plain": [
       "        TV  Radio  Newspaper\n",
       "0    230.1   37.8       69.2\n",
       "1     44.5   39.3       45.1\n",
       "2     17.2   45.9       69.3\n",
       "3    151.5   41.3       58.5\n",
       "4    180.8   10.8       58.4\n",
       "..     ...    ...        ...\n",
       "195   38.2    3.7       13.8\n",
       "196   94.2    4.9        8.1\n",
       "197  177.0    9.3        6.4\n",
       "198  283.6   42.0       66.2\n",
       "199  232.1    8.6        8.7\n",
       "\n",
       "[200 rows x 3 columns]"
      ]
     },
     "execution_count": 675,
     "metadata": {},
     "output_type": "execute_result"
    }
   ],
   "source": []
  },
  {
   "cell_type": "code",
   "execution_count": 678,
   "metadata": {},
   "outputs": [
    {
     "data": {
      "text/html": [
       "<div>\n",
       "<style scoped>\n",
       "    .dataframe tbody tr th:only-of-type {\n",
       "        vertical-align: middle;\n",
       "    }\n",
       "\n",
       "    .dataframe tbody tr th {\n",
       "        vertical-align: top;\n",
       "    }\n",
       "\n",
       "    .dataframe thead th {\n",
       "        text-align: right;\n",
       "    }\n",
       "</style>\n",
       "<table border=\"1\" class=\"dataframe\">\n",
       "  <thead>\n",
       "    <tr style=\"text-align: right;\">\n",
       "      <th></th>\n",
       "      <th>Sales</th>\n",
       "    </tr>\n",
       "  </thead>\n",
       "  <tbody>\n",
       "    <tr>\n",
       "      <th>0</th>\n",
       "      <td>22.1</td>\n",
       "    </tr>\n",
       "    <tr>\n",
       "      <th>1</th>\n",
       "      <td>10.4</td>\n",
       "    </tr>\n",
       "    <tr>\n",
       "      <th>2</th>\n",
       "      <td>12.0</td>\n",
       "    </tr>\n",
       "    <tr>\n",
       "      <th>3</th>\n",
       "      <td>16.5</td>\n",
       "    </tr>\n",
       "    <tr>\n",
       "      <th>4</th>\n",
       "      <td>17.9</td>\n",
       "    </tr>\n",
       "    <tr>\n",
       "      <th>...</th>\n",
       "      <td>...</td>\n",
       "    </tr>\n",
       "    <tr>\n",
       "      <th>195</th>\n",
       "      <td>7.6</td>\n",
       "    </tr>\n",
       "    <tr>\n",
       "      <th>196</th>\n",
       "      <td>14.0</td>\n",
       "    </tr>\n",
       "    <tr>\n",
       "      <th>197</th>\n",
       "      <td>14.8</td>\n",
       "    </tr>\n",
       "    <tr>\n",
       "      <th>198</th>\n",
       "      <td>25.5</td>\n",
       "    </tr>\n",
       "    <tr>\n",
       "      <th>199</th>\n",
       "      <td>18.4</td>\n",
       "    </tr>\n",
       "  </tbody>\n",
       "</table>\n",
       "<p>200 rows × 1 columns</p>\n",
       "</div>"
      ],
      "text/plain": [
       "     Sales\n",
       "0     22.1\n",
       "1     10.4\n",
       "2     12.0\n",
       "3     16.5\n",
       "4     17.9\n",
       "..     ...\n",
       "195    7.6\n",
       "196   14.0\n",
       "197   14.8\n",
       "198   25.5\n",
       "199   18.4\n",
       "\n",
       "[200 rows x 1 columns]"
      ]
     },
     "execution_count": 678,
     "metadata": {},
     "output_type": "execute_result"
    }
   ],
   "source": [
    "Y=data[['Sales']]\n",
    "Y"
   ]
  },
  {
   "cell_type": "code",
   "execution_count": 679,
   "metadata": {},
   "outputs": [],
   "source": [
    "from sklearn.model_selection import train_test_split"
   ]
  },
  {
   "cell_type": "code",
   "execution_count": 680,
   "metadata": {},
   "outputs": [],
   "source": [
    "x_train,x_test,y_train,y_test=train_test_split(X,Y,random_state=1)"
   ]
  },
  {
   "cell_type": "code",
   "execution_count": 681,
   "metadata": {},
   "outputs": [
    {
     "name": "stdout",
     "output_type": "stream",
     "text": [
      "(150, 3)\n"
     ]
    }
   ],
   "source": [
    "print(x_train.shape)"
   ]
  },
  {
   "cell_type": "code",
   "execution_count": 682,
   "metadata": {},
   "outputs": [
    {
     "name": "stdout",
     "output_type": "stream",
     "text": [
      "(150, 1)\n"
     ]
    }
   ],
   "source": [
    "print(y_train.shape)"
   ]
  },
  {
   "cell_type": "code",
   "execution_count": 683,
   "metadata": {},
   "outputs": [
    {
     "name": "stdout",
     "output_type": "stream",
     "text": [
      "(50, 3)\n",
      "(50, 1)\n"
     ]
    }
   ],
   "source": [
    "print(x_test.shape)\n",
    "print(y_test.shape)"
   ]
  },
  {
   "cell_type": "code",
   "execution_count": 684,
   "metadata": {},
   "outputs": [],
   "source": [
    "from sklearn.linear_model import LinearRegression"
   ]
  },
  {
   "cell_type": "code",
   "execution_count": 685,
   "metadata": {},
   "outputs": [
    {
     "data": {
      "text/plain": [
       "LinearRegression(copy_X=True, fit_intercept=True, n_jobs=None, normalize=False)"
      ]
     },
     "execution_count": 685,
     "metadata": {},
     "output_type": "execute_result"
    }
   ],
   "source": [
    "linreg=LinearRegression()\n",
    "linreg.fit(x_train,y_train)"
   ]
  },
  {
   "cell_type": "code",
   "execution_count": 689,
   "metadata": {},
   "outputs": [
    {
     "name": "stdout",
     "output_type": "stream",
     "text": [
      "[4.63380855]\n"
     ]
    }
   ],
   "source": [
    "print(linreg.intercept_)"
   ]
  },
  {
   "cell_type": "code",
   "execution_count": 687,
   "metadata": {},
   "outputs": [
    {
     "name": "stdout",
     "output_type": "stream",
     "text": [
      "[[0.05483762 0.10218027 0.00078783]]\n"
     ]
    }
   ],
   "source": [
    "print(linreg.coef_)"
   ]
  },
  {
   "cell_type": "code",
   "execution_count": 734,
   "metadata": {},
   "outputs": [
    {
     "data": {
      "text/plain": [
       "(200, 4)"
      ]
     },
     "execution_count": 734,
     "metadata": {},
     "output_type": "execute_result"
    }
   ],
   "source": [
    "nunique = data.nunique()\n",
    "nunique\n",
    "data.head()\n",
    "#data=data[[col for col in data.columns if nunique[col]>1 and nunique[col]<50]]\n",
    "data\n",
    "colnames=list(data)\n",
    "colnames\n",
    "nrow,ncol=data.shape\n",
    "nrow,ncol"
   ]
  },
  {
   "cell_type": "code",
   "execution_count": 718,
   "metadata": {},
   "outputs": [
    {
     "data": {
      "text/plain": [
       "TV           190\n",
       "Radio        167\n",
       "Newspaper    172\n",
       "Sales        121\n",
       "dtype: int64"
      ]
     },
     "execution_count": 718,
     "metadata": {},
     "output_type": "execute_result"
    }
   ],
   "source": [
    "#for i in data.columns:\n",
    " #   coluniquevalues=data[i].value_counts()\n",
    "  #  print(coluniquevalues)\n",
    "nunique"
   ]
  },
  {
   "cell_type": "code",
   "execution_count": 742,
   "metadata": {},
   "outputs": [
    {
     "data": {
      "text/plain": [
       "range(0, 10)"
      ]
     },
     "execution_count": 742,
     "metadata": {},
     "output_type": "execute_result"
    }
   ],
   "source": [
    "range(min(10,20))\n",
    "plt.subplot()"
   ]
  },
  {
   "cell_type": "code",
   "execution_count": 748,
   "metadata": {},
   "outputs": [
    {
     "data": {
      "text/plain": [
       "array([[1.        , 0.05480866, 0.05664787, 0.90120791],\n",
       "       [0.05480866, 1.        , 0.35410375, 0.3496311 ],\n",
       "       [0.05664787, 0.35410375, 1.        , 0.15796003],\n",
       "       [0.90120791, 0.3496311 , 0.15796003, 1.        ]])"
      ]
     },
     "execution_count": 748,
     "metadata": {},
     "output_type": "execute_result"
    }
   ],
   "source": [
    "corr=data.corr().values\n",
    "corr"
   ]
  },
  {
   "cell_type": "code",
   "execution_count": null,
   "metadata": {},
   "outputs": [],
   "source": [
    "df= report['City'].value_counts()\n",
    "normed_df = (df - df.min()) / (df.max() - df.min())\n",
    "normed_df"
   ]
  },
  {
   "cell_type": "code",
   "execution_count": 750,
   "metadata": {},
   "outputs": [
    {
     "data": {
      "text/html": [
       "<div>\n",
       "<style scoped>\n",
       "    .dataframe tbody tr th:only-of-type {\n",
       "        vertical-align: middle;\n",
       "    }\n",
       "\n",
       "    .dataframe tbody tr th {\n",
       "        vertical-align: top;\n",
       "    }\n",
       "\n",
       "    .dataframe thead th {\n",
       "        text-align: right;\n",
       "    }\n",
       "</style>\n",
       "<table border=\"1\" class=\"dataframe\">\n",
       "  <thead>\n",
       "    <tr style=\"text-align: right;\">\n",
       "      <th></th>\n",
       "      <th>Name</th>\n",
       "      <th>Physics</th>\n",
       "      <th>Chemistry</th>\n",
       "      <th>Maths</th>\n",
       "      <th>City</th>\n",
       "      <th>Place</th>\n",
       "      <th>Date_of_birth</th>\n",
       "    </tr>\n",
       "  </thead>\n",
       "  <tbody>\n",
       "    <tr>\n",
       "      <th>0</th>\n",
       "      <td>Anathesia</td>\n",
       "      <td>98</td>\n",
       "      <td>95</td>\n",
       "      <td>95</td>\n",
       "      <td>Bokaro</td>\n",
       "      <td>Sec4</td>\n",
       "      <td>1998-02-29</td>\n",
       "    </tr>\n",
       "    <tr>\n",
       "      <th>1</th>\n",
       "      <td>Dima</td>\n",
       "      <td>35</td>\n",
       "      <td>45</td>\n",
       "      <td>55</td>\n",
       "      <td>Bokaro</td>\n",
       "      <td>Sec4</td>\n",
       "      <td>1998-01-10</td>\n",
       "    </tr>\n",
       "    <tr>\n",
       "      <th>2</th>\n",
       "      <td>James</td>\n",
       "      <td>78</td>\n",
       "      <td>70</td>\n",
       "      <td>75</td>\n",
       "      <td>Chennai</td>\n",
       "      <td>Avadi</td>\n",
       "      <td>1999-05-10</td>\n",
       "    </tr>\n",
       "    <tr>\n",
       "      <th>3</th>\n",
       "      <td>Emily</td>\n",
       "      <td>93</td>\n",
       "      <td>89</td>\n",
       "      <td>79</td>\n",
       "      <td>Chennai</td>\n",
       "      <td>Adyar</td>\n",
       "      <td>1998-11-10</td>\n",
       "    </tr>\n",
       "    <tr>\n",
       "      <th>4</th>\n",
       "      <td>Michael</td>\n",
       "      <td>87</td>\n",
       "      <td>79</td>\n",
       "      <td>70</td>\n",
       "      <td>Kota</td>\n",
       "      <td>Talwandi</td>\n",
       "      <td>2000-01-01</td>\n",
       "    </tr>\n",
       "  </tbody>\n",
       "</table>\n",
       "</div>"
      ],
      "text/plain": [
       "        Name  Physics  Chemistry  Maths     City     Place Date_of_birth\n",
       "0  Anathesia       98         95     95   Bokaro      Sec4    1998-02-29\n",
       "1       Dima       35         45     55   Bokaro      Sec4    1998-01-10\n",
       "2      James       78         70     75  Chennai     Avadi    1999-05-10\n",
       "3      Emily       93         89     79  Chennai     Adyar    1998-11-10\n",
       "4    Michael       87         79     70     Kota  Talwandi    2000-01-01"
      ]
     },
     "execution_count": 750,
     "metadata": {},
     "output_type": "execute_result"
    }
   ],
   "source": [
    "report=pd.read_csv('report.csv')\n",
    "report.head()"
   ]
  },
  {
   "cell_type": "code",
   "execution_count": 756,
   "metadata": {},
   "outputs": [
    {
     "data": {
      "text/plain": [
       "Kota       0.416667\n",
       "Bokaro     0.333333\n",
       "Chennai    0.250000\n",
       "Name: City, dtype: float64"
      ]
     },
     "execution_count": 756,
     "metadata": {},
     "output_type": "execute_result"
    }
   ],
   "source": [
    "df= report['City'].value_counts(normalize=True)\n",
    "#normed_df = (df - df.min()) / (df.max() - df.min())\n",
    "#normed_df\n",
    "df"
   ]
  },
  {
   "cell_type": "code",
   "execution_count": 757,
   "metadata": {},
   "outputs": [
    {
     "data": {
      "text/html": [
       "<div>\n",
       "<style scoped>\n",
       "    .dataframe tbody tr th:only-of-type {\n",
       "        vertical-align: middle;\n",
       "    }\n",
       "\n",
       "    .dataframe tbody tr th {\n",
       "        vertical-align: top;\n",
       "    }\n",
       "\n",
       "    .dataframe thead th {\n",
       "        text-align: right;\n",
       "    }\n",
       "</style>\n",
       "<table border=\"1\" class=\"dataframe\">\n",
       "  <thead>\n",
       "    <tr style=\"text-align: right;\">\n",
       "      <th></th>\n",
       "      <th></th>\n",
       "      <th>Physics</th>\n",
       "      <th>Chemistry</th>\n",
       "    </tr>\n",
       "    <tr>\n",
       "      <th>City</th>\n",
       "      <th>Maths</th>\n",
       "      <th></th>\n",
       "      <th></th>\n",
       "    </tr>\n",
       "  </thead>\n",
       "  <tbody>\n",
       "    <tr>\n",
       "      <th rowspan=\"4\" valign=\"top\">Bokaro</th>\n",
       "      <th>40</th>\n",
       "      <td>49</td>\n",
       "      <td>46</td>\n",
       "    </tr>\n",
       "    <tr>\n",
       "      <th>55</th>\n",
       "      <td>35</td>\n",
       "      <td>45</td>\n",
       "    </tr>\n",
       "    <tr>\n",
       "      <th>58</th>\n",
       "      <td>78</td>\n",
       "      <td>68</td>\n",
       "    </tr>\n",
       "    <tr>\n",
       "      <th>95</th>\n",
       "      <td>98</td>\n",
       "      <td>95</td>\n",
       "    </tr>\n",
       "    <tr>\n",
       "      <th rowspan=\"3\" valign=\"top\">Chennai</th>\n",
       "      <th>75</th>\n",
       "      <td>78</td>\n",
       "      <td>70</td>\n",
       "    </tr>\n",
       "    <tr>\n",
       "      <th>79</th>\n",
       "      <td>93</td>\n",
       "      <td>89</td>\n",
       "    </tr>\n",
       "    <tr>\n",
       "      <th>88</th>\n",
       "      <td>68</td>\n",
       "      <td>78</td>\n",
       "    </tr>\n",
       "    <tr>\n",
       "      <th rowspan=\"4\" valign=\"top\">Kota</th>\n",
       "      <th>56</th>\n",
       "      <td>80</td>\n",
       "      <td>68</td>\n",
       "    </tr>\n",
       "    <tr>\n",
       "      <th>70</th>\n",
       "      <td>87</td>\n",
       "      <td>79</td>\n",
       "    </tr>\n",
       "    <tr>\n",
       "      <th>74</th>\n",
       "      <td>54</td>\n",
       "      <td>64</td>\n",
       "    </tr>\n",
       "    <tr>\n",
       "      <th>79</th>\n",
       "      <td>90</td>\n",
       "      <td>89</td>\n",
       "    </tr>\n",
       "  </tbody>\n",
       "</table>\n",
       "</div>"
      ],
      "text/plain": [
       "               Physics  Chemistry\n",
       "City    Maths                    \n",
       "Bokaro  40          49         46\n",
       "        55          35         45\n",
       "        58          78         68\n",
       "        95          98         95\n",
       "Chennai 75          78         70\n",
       "        79          93         89\n",
       "        88          68         78\n",
       "Kota    56          80         68\n",
       "        70          87         79\n",
       "        74          54         64\n",
       "        79          90         89"
      ]
     },
     "execution_count": 757,
     "metadata": {},
     "output_type": "execute_result"
    }
   ],
   "source": [
    "report.groupby(['City','Maths']).mean()"
   ]
  },
  {
   "cell_type": "code",
   "execution_count": 761,
   "metadata": {},
   "outputs": [
    {
     "data": {
      "text/plain": [
       "City\n",
       "Bokaro     62.000000\n",
       "Chennai    80.666667\n",
       "Kota       67.000000\n",
       "Name: Maths, dtype: float64"
      ]
     },
     "execution_count": 761,
     "metadata": {},
     "output_type": "execute_result"
    }
   ],
   "source": [
    "report.groupby(['City'])['Maths'].mean()"
   ]
  },
  {
   "cell_type": "code",
   "execution_count": 803,
   "metadata": {},
   "outputs": [
    {
     "name": "stdout",
     "output_type": "stream",
     "text": [
      "0.41575541635241114 -0.36307552131902776 0.9628654314027963 4.6750039073255014e-86 0.009582435790766206\n",
      "0.9271098389904932\n"
     ]
    }
   ],
   "source": [
    "from scipy.stats import *\n",
    "from scipy.interpolate import *\n",
    "slope,intercept,r_value,p_value,std_error=linregress(iris['petal_length'],iris['petal_width'])\n",
    "print(slope,intercept,r_value,p_value,std_error)\n",
    "print(pow(r_value,2))"
   ]
  },
  {
   "cell_type": "code",
   "execution_count": 797,
   "metadata": {},
   "outputs": [
    {
     "name": "stdout",
     "output_type": "stream",
     "text": [
      "0.41575541635241114 -0.36307552131902776 4.6750039073255014e-86 0.009582435790766206\n"
     ]
    },
    {
     "data": {
      "text/plain": [
       "(0.41575541635241114, -0.36307552131902776)"
      ]
     },
     "execution_count": 797,
     "metadata": {},
     "output_type": "execute_result"
    }
   ],
   "source": [
    "print(slope,intercept,p_value,std_error)\n",
    "#sloint=slope,intercept\n",
    "#sloint"
   ]
  },
  {
   "cell_type": "code",
   "execution_count": 804,
   "metadata": {},
   "outputs": [
    {
     "data": {
      "text/plain": [
       "[<matplotlib.lines.Line2D at 0x2dc98594888>]"
      ]
     },
     "execution_count": 804,
     "metadata": {},
     "output_type": "execute_result"
    },
    {
     "data": {
      "image/png": "[encoded data removed]",
      "text/plain": [
       "<Figure size 432x288 with 1 Axes>"
      ]
     },
     "metadata": {
      "needs_background": "light"
     },
     "output_type": "display_data"
    }
   ],
   "source": [
    "from matplotlib.pyplot import *\n",
    "from numpy import *\n",
    "%matplotlib inline\n",
    "plot(iris['petal_length'],iris['petal_width'],marker='.',linestyle='none')\n",
    "plot(iris['petal_length'],polyval((slope,intercept),iris['petal_length']))"
   ]
  },
  {
   "cell_type": "code",
   "execution_count": 859,
   "metadata": {},
   "outputs": [
    {
     "name": "stderr",
     "output_type": "stream",
     "text": [
      "C:\\Users\\v-ankona\\Anaconda3\\lib\\site-packages\\ipykernel_launcher.py:8: MatplotlibDeprecationWarning: \n",
      "The 'normed' kwarg was deprecated in Matplotlib 2.1 and will be removed in 3.1. Use 'density' instead.\n",
      "  \n"
     ]
    },
    {
     "data": {
      "text/plain": [
       "array([3.4813333333333336, 4.03535], dtype=object)"
      ]
     },
     "execution_count": 859,
     "metadata": {},
     "output_type": "execute_result"
    },
    {
     "data": {
      "image/png": "[encoded data removed]",
      "text/plain": [
       "<Figure size 432x288 with 1 Axes>"
      ]
     },
     "metadata": {
      "needs_background": "light"
     },
     "output_type": "display_data"
    }
   ],
   "source": [
    "#np.random.choice(iris['petal_length'],leniris['petal_length'])\n",
    "BSRep=np.empty(10000,dtype=object)\n",
    "def BSRfunc(BSsample,func):\n",
    "    BSRep=func(BSsample)\n",
    "    return BSRep\n",
    "for i in np.arange(10000):\n",
    "    BSRep[i]=BSRfunc(np.random.choice(iris['petal_length'],len(iris['petal_length'])),np.mean)    \n",
    "plt.hist(BSRep,bins=30,normed=True)\n",
    "nintyfiveperctvalues=np.percentile(BSRep,[2.5,97.5])\n",
    "nintyfiveperctvalues"
   ]
  },
  {
   "cell_type": "code",
   "execution_count": null,
   "metadata": {},
   "outputs": [],
   "source": [
    "hist()"
   ]
  },
  {
   "cell_type": "code",
   "execution_count": 843,
   "metadata": {},
   "outputs": [
    {
     "name": "stdout",
     "output_type": "stream",
     "text": [
      "19.785942622950824\n",
      "19.830569672131148\n"
     ]
    },
    {
     "data": {
      "image/png": "[encoded data removed]",
      "text/plain": [
       "<Figure size 432x288 with 1 Axes>"
      ]
     },
     "metadata": {
      "needs_background": "light"
     },
     "output_type": "display_data"
    }
   ],
   "source": [
    "bssample=np.empty(20,dtype=object)\n",
    "for i in np.arange(20):\n",
    "    bssample[i]=np.random.choice(tips['total_bill'],len(tips['total_bill']))\n",
    "    x,y=ecdf(bssample[i])\n",
    "    plot(x,y,marker='.',linestyle='none',color='red',alpha=0.01)\n",
    "x1,y1=ecdf(tips['total_bill'])\n",
    "plot(x1,y1,marker='.',linestyle='none',color='yellow',alpha=0.1)\n",
    "print(np.mean(tips['total_bill']))\n",
    "bssamplemean=np.mean(bssample)\n",
    "print(np.mean(bssamplemean))"
   ]
  },
  {
   "cell_type": "code",
   "execution_count": 832,
   "metadata": {},
   "outputs": [],
   "source": [
    "tips=sns.load_dataset('tips')"
   ]
  },
  {
   "cell_type": "code",
   "execution_count": 837,
   "metadata": {},
   "outputs": [
    {
     "data": {
      "text/plain": [
       "[<matplotlib.lines.Line2D at 0x2dc9acfac48>,\n",
       " <matplotlib.lines.Line2D at 0x2dc9aca07c8>,\n",
       " <matplotlib.lines.Line2D at 0x2dc9acffc08>,\n",
       " <matplotlib.lines.Line2D at 0x2dc9acffe08>]"
      ]
     },
     "execution_count": 837,
     "metadata": {},
     "output_type": "execute_result"
    },
    {
     "data": {
      "image/png": "[encoded data removed]",
      "text/plain": [
       "<Figure size 432x288 with 1 Axes>"
      ]
     },
     "metadata": {
      "needs_background": "light"
     },
     "output_type": "display_data"
    }
   ],
   "source": [
    "x1,y1=ecdf(tips['total_bill'])\n",
    "plot(x1,y1,marker='.',linestyle='none',color='yellow')"
   ]
  },
  {
   "cell_type": "code",
   "execution_count": 13,
   "metadata": {},
   "outputs": [],
   "source": [
    "#Generating Pairs Boot Strap Sample\n",
    "from seaborn import *\n",
    "from pandas import *\n",
    "tips=load_dataset('tips')\n",
    "from numpy import *\n",
    "tips.shape\n",
    "total_bill=random.choice(tips['total_bill'],len(tips['total_bill'],))\n",
    "tip=random.choice(tips['tip'],len(tips['tip']))"
   ]
  },
  {
   "cell_type": "code",
   "execution_count": 33,
   "metadata": {},
   "outputs": [
    {
     "name": "stdout",
     "output_type": "stream",
     "text": [
      "0.1050245173843534 0.9202696135546726 0.7073766400811016 2.474065290506333e-38 0.007695908525940313\n",
      "0.5003817109324283\n"
     ]
    }
   ],
   "source": [
    "from scipy.stats import *\n",
    "BSind=random.choice(inds,len(inds))\n",
    "total_BSind=tips['total_bill'][BSind]\n",
    "tip_BSind=tips['tip'][BSind]\n",
    "slope1,intercept1,r_value,p_value,std_err=linregress(total_BSind,tip_BSind)\n",
    "print(slope,intercept,r_value,p_value,std_err)\n",
    "print(pow(r_value,2))"
   ]
  },
  {
   "cell_type": "code",
   "execution_count": 32,
   "metadata": {},
   "outputs": [
    {
     "data": {
      "text/plain": [
       "(0.1050245173843534,\n",
       " 0.9202696135546726,\n",
       " 0.6757341092113641,\n",
       " 6.692470646864404e-34,\n",
       " 0.007364789848762602)"
      ]
     },
     "execution_count": 32,
     "metadata": {},
     "output_type": "execute_result"
    }
   ],
   "source": [
    "slope,intercept,r_value,p_value,std_err=linregress(tips['total_bill'],tips['tip'])\n",
    "slope,intercept,r_value,p_value,std_err"
   ]
  },
  {
   "cell_type": "code",
   "execution_count": 34,
   "metadata": {},
   "outputs": [
    {
     "data": {
      "text/plain": [
       "[<matplotlib.lines.Line2D at 0x242c52c05c8>]"
      ]
     },
     "execution_count": 34,
     "metadata": {},
     "output_type": "execute_result"
    },
    {
     "data": {
      "image/png": "[encoded data removed]",
      "text/plain": [
       "<Figure size 432x288 with 1 Axes>"
      ]
     },
     "metadata": {
      "needs_background": "light"
     },
     "output_type": "display_data"
    }
   ],
   "source": [
    "from matplotlib.pyplot import *\n",
    "%matplotlib inline\n",
    "plot(total_BSind,polyval((slope1,intercept1),total_BSind))\n",
    "plot(tips['total_bill'],tips['tip'],marker='.',linestyle='none')"
   ]
  },
  {
   "cell_type": "code",
   "execution_count": null,
   "metadata": {},
   "outputs": [],
   "source": [
    "#BSindex=empty(1000,dtype=object)\n",
    "BStotalbillmean=empty(10000,dtype=object)\n",
    "BStipmean=empty(10000,dtype=object)\n",
    "BStotalbill=empty(10000,dtype=object)\n",
    "BStip=empty(10000,dtype=object)\n",
    "slope=empty(10000,dtype=object)\n",
    "intercept=empty(10000,dtype=object)\n",
    "def BSPair(var1,var2):\n",
    "    for i in arange(10000):\n",
    "        inds=arange(len(var1))\n",
    "        BSindex=random.choice(inds,len(inds))\n",
    "        BStotalbill[i]=var1[BSindex]\n",
    "        BStip[i]=var2[BSindex]\n",
    "        slope,intercept,r_value,p_value,std_err=linregress(BStotalbill[i],BStip[i])\n",
    "        BStotalbillmean[i]=mean(BStotalbill[i])\n",
    "        BStipmean[i]=mean(BStip[i])\n",
    "        #plot=plot(BStotalbill[i],polyval((slope[i],intercept[i]),BStotalbill[i]),color='g',alpha=0.2)\n",
    "    return BStotalbillmean,BStipmean"
   ]
  },
  {
   "cell_type": "code",
   "execution_count": null,
   "metadata": {},
   "outputs": [],
   "source": [
    "BSPair(tips['total_bill'],tips['tip'])\n",
    "hist1=hist(BStotalbillmean,bins=30,density=True)\n",
    "hist2=hist(BStipmean,bins=30,density=True)"
   ]
  },
  {
   "cell_type": "code",
   "execution_count": null,
   "metadata": {},
   "outputs": [],
   "source": [
    "BSPair(tips['total_bill'],tips['tip'])\n",
    "plot=plot(BStotalbill,polyval((slope[i],intercept[i]),BStotalbill[i]),color='g',alpha=0.2)\n",
    "plot(tips['total_bill'],tips['tip'],marker='.',linestyle='none')"
   ]
  },
  {
   "cell_type": "code",
   "execution_count": null,
   "metadata": {},
   "outputs": [],
   "source": [
    "BSPair(tips['total_bill'],tips['tip'])\n",
    "plot(BStotalbill,polyval((slope,intercept),BStotalbill),color='g',alpha=0.2)\n",
    "plot(tips['total_bill'],tips['tip'],marker='.',linestyle='none')"
   ]
  },
  {
   "cell_type": "code",
   "execution_count": 64,
   "metadata": {},
   "outputs": [
    {
     "data": {
      "text/plain": [
       "0.1050245173843534"
      ]
     },
     "execution_count": 64,
     "metadata": {},
     "output_type": "execute_result"
    }
   ],
   "source": [
    "slope,intercept,r_value,p_value,std_err=linregress(tips['total_bill'],tips['tip'])\n",
    "slope=array([slope,intercept,r_value,p_value,std_err])\n",
    "slope[0]"
   ]
  },
  {
   "cell_type": "code",
   "execution_count": 63,
   "metadata": {},
   "outputs": [
    {
     "data": {
      "text/plain": [
       "0.1050245173843534"
      ]
     },
     "execution_count": 63,
     "metadata": {},
     "output_type": "execute_result"
    }
   ],
   "source": [
    "slope"
   ]
  }
 ],
 "metadata": {
  "kernelspec": {
   "display_name": "Python 3",
   "language": "python",
   "name": "python3"
  },
  "language_info": {
   "codemirror_mode": {
    "name": "ipython",
    "version": 3
   },
   "file_extension": ".py",
   "mimetype": "text/x-python",
   "name": "python",
   "nbconvert_exporter": "python",
   "pygments_lexer": "ipython3",
   "version": "3.7.6"
  }
 },
 "nbformat": 4,
 "nbformat_minor": 4
}
